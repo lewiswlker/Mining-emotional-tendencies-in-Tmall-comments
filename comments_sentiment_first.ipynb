{
 "cells": [
  {
   "cell_type": "markdown",
   "metadata": {},
   "source": [
    "# 指南者教育训练营\n",
    "## 项目: 基于机器学习挖掘天猫评论情感倾向\n",
    "\n",
    "\n",
    "恭喜大家进入到此训练营的最后一个环节！在这个文件中，部分的模版代码已经写好啦，但你还需要补充一些功能来让项目成功运行。除非有明确要求，你无须修改任何已给出的代码。以**编程练习**开始的标题表示接下来的内容中有需要你必须实现的功能。每一部分都会有详细的指导，需要实现的部分也会在注释中以**TODO**标出。请仔细阅读所有的提示！\n",
    "\n",
    "- **项目背景**：新闻、评论等文本数据的情感倾向分析在各行各业都得到了广泛的应用。对于天猫、京东等平台电商来说，常常需要进行满意度调研，然而好评率这一指标太过粗糙。如果直接对用户的评论数据信息进行挖掘，那么首先结果的可读性会有所提升，其次我们还可以清晰地知道哪里做的好，哪里做的差，从而进一步提升用户的产品体验。<br> \n",
    "\n",
    "- **项目任务**：我们首先收集了天猫上一些商品的评论信息，并提前打好情感倾向标签。再使用jieba分词并将数据转换成文档向量，然后使用机器学习方法构建评论信息的情感倾向预测模型，从而进一步挖掘数据中的信息。<br> \n",
    "\n",
    "- **项目步骤**：    \n",
    "                        1. 对数据进行探索，搞明白数据之间的关系。\n",
    "                        2. 清洗数据，对文本数据进行处理。\n",
    "                            a. 使用jieba进行中文分词。\n",
    "                            b. 使用re正则表达式过滤出中文。\n",
    "                            c. 使用stopwords过滤常用停用词。\n",
    "                        3. 生成样本数据和标签。\n",
    "                        4. 使用tfidf生成文档向量。\n",
    "                        5. 选择模型进行交叉验证和网格搜索。\n",
    "                        6. 模型的集成。\n",
    "                        7. 画出ROC曲线。\n",
    "\n",
    "> **提示：** Code 和 Markdown 区域可通过 **Shift + Enter** 快捷键运行。此外，Markdown可以通过双击进入编辑模式。\n",
    "\n",
    "> **注意：** 如果有未安装的库，请使用`pip install`命令进行安装"
   ]
  },
  {
   "cell_type": "markdown",
   "metadata": {},
   "source": [
    "## 步骤一：数据的探索\n",
    "\n",
    "对数据进行探索，搞明白data文件夹中的txt数据。\n",
    "-  online_shopping_10_cats.csv"
   ]
  },
  {
   "cell_type": "markdown",
   "source": [
    "### 引入依赖"
   ],
   "metadata": {
    "collapsed": false
   }
  },
  {
   "cell_type": "code",
   "execution_count": 17,
   "metadata": {
    "collapsed": false,
    "ExecuteTime": {
     "end_time": "2024-08-11T15:23:47.630300500Z",
     "start_time": "2024-08-11T15:23:47.464261800Z"
    }
   },
   "outputs": [],
   "source": [
    "# 请不要修改此格代码\n",
    "# 导入依赖库\n",
    "import pandas as pd\n",
    "import numpy as np\n",
    "import warnings"
   ]
  },
  {
   "cell_type": "markdown",
   "source": [
    "### 加载数据"
   ],
   "metadata": {
    "collapsed": false
   }
  },
  {
   "cell_type": "code",
   "outputs": [],
   "source": [
    "warnings.filterwarnings(\"ignore\")\n",
    "#加载数据\n",
    "data = pd.read_csv('online_shopping_10_cats.csv', header=0)"
   ],
   "metadata": {
    "ExecuteTime": {
     "end_time": "2024-08-11T15:23:47.906362700Z",
     "start_time": "2024-08-11T15:23:47.633300500Z"
    }
   },
   "execution_count": 18
  },
  {
   "cell_type": "code",
   "execution_count": 19,
   "metadata": {
    "ExecuteTime": {
     "end_time": "2024-08-11T15:23:47.909362100Z",
     "start_time": "2024-08-11T15:23:47.835346200Z"
    }
   },
   "outputs": [
    {
     "data": {
      "text/plain": "      cat  label                                             review\n0      书籍      1  ﻿做父母一定要有刘墉这样的心态，不断地学习，不断地进步，不断地给自己补充新鲜血液，让自己保持...\n1      书籍      1  作者真有英国人严谨的风格，提出观点、进行论述论证，尽管本人对物理学了解不深，但是仍然能感受到...\n2      书籍      1  作者长篇大论借用详细报告数据处理工作和计算结果支持其新观点。为什么荷兰曾经县有欧洲最高的生产...\n3      书籍      1  作者在战几时之前用了＂拥抱＂令人叫绝．日本如果没有战败，就有会有美军的占领，没胡官僚主义的延...\n4      书籍      1  作者在少年时即喜阅读，能看出他精读了无数经典，因而他有一个庞大的内心世界。他的作品最难能可贵...\n...    ..    ...                                                ...\n62758  酒店      0  我们去盐城的时候那里的最低气温只有4度，晚上冷得要死，居然还不开空调，投诉到酒店客房部，得到...\n62759  酒店      0  房间很小，整体设施老化，和四星的差距很大。毛巾太破旧了。早餐很简陋。房间隔音很差，隔两间房间...\n62760  酒店      0                      我感觉不行。。。性价比很差。不知道是银川都这样还是怎么的！\n62761  酒店      0  房间时间长，进去有点异味！服务员是不是不够用啊！我在一楼找了半个小时以上才找到自己房间，想找...\n62762  酒店      0  老人小孩一大家族聚会，选在吴宫泛太平洋，以为新加坡品牌一定很不错，没想到11点30分到前台，...\n\n[62763 rows x 3 columns]",
      "text/html": "<div>\n<style scoped>\n    .dataframe tbody tr th:only-of-type {\n        vertical-align: middle;\n    }\n\n    .dataframe tbody tr th {\n        vertical-align: top;\n    }\n\n    .dataframe thead th {\n        text-align: right;\n    }\n</style>\n<table border=\"1\" class=\"dataframe\">\n  <thead>\n    <tr style=\"text-align: right;\">\n      <th></th>\n      <th>cat</th>\n      <th>label</th>\n      <th>review</th>\n    </tr>\n  </thead>\n  <tbody>\n    <tr>\n      <th>0</th>\n      <td>书籍</td>\n      <td>1</td>\n      <td>﻿做父母一定要有刘墉这样的心态，不断地学习，不断地进步，不断地给自己补充新鲜血液，让自己保持...</td>\n    </tr>\n    <tr>\n      <th>1</th>\n      <td>书籍</td>\n      <td>1</td>\n      <td>作者真有英国人严谨的风格，提出观点、进行论述论证，尽管本人对物理学了解不深，但是仍然能感受到...</td>\n    </tr>\n    <tr>\n      <th>2</th>\n      <td>书籍</td>\n      <td>1</td>\n      <td>作者长篇大论借用详细报告数据处理工作和计算结果支持其新观点。为什么荷兰曾经县有欧洲最高的生产...</td>\n    </tr>\n    <tr>\n      <th>3</th>\n      <td>书籍</td>\n      <td>1</td>\n      <td>作者在战几时之前用了＂拥抱＂令人叫绝．日本如果没有战败，就有会有美军的占领，没胡官僚主义的延...</td>\n    </tr>\n    <tr>\n      <th>4</th>\n      <td>书籍</td>\n      <td>1</td>\n      <td>作者在少年时即喜阅读，能看出他精读了无数经典，因而他有一个庞大的内心世界。他的作品最难能可贵...</td>\n    </tr>\n    <tr>\n      <th>...</th>\n      <td>...</td>\n      <td>...</td>\n      <td>...</td>\n    </tr>\n    <tr>\n      <th>62758</th>\n      <td>酒店</td>\n      <td>0</td>\n      <td>我们去盐城的时候那里的最低气温只有4度，晚上冷得要死，居然还不开空调，投诉到酒店客房部，得到...</td>\n    </tr>\n    <tr>\n      <th>62759</th>\n      <td>酒店</td>\n      <td>0</td>\n      <td>房间很小，整体设施老化，和四星的差距很大。毛巾太破旧了。早餐很简陋。房间隔音很差，隔两间房间...</td>\n    </tr>\n    <tr>\n      <th>62760</th>\n      <td>酒店</td>\n      <td>0</td>\n      <td>我感觉不行。。。性价比很差。不知道是银川都这样还是怎么的！</td>\n    </tr>\n    <tr>\n      <th>62761</th>\n      <td>酒店</td>\n      <td>0</td>\n      <td>房间时间长，进去有点异味！服务员是不是不够用啊！我在一楼找了半个小时以上才找到自己房间，想找...</td>\n    </tr>\n    <tr>\n      <th>62762</th>\n      <td>酒店</td>\n      <td>0</td>\n      <td>老人小孩一大家族聚会，选在吴宫泛太平洋，以为新加坡品牌一定很不错，没想到11点30分到前台，...</td>\n    </tr>\n  </tbody>\n</table>\n<p>62763 rows × 3 columns</p>\n</div>"
     },
     "execution_count": 19,
     "metadata": {},
     "output_type": "execute_result"
    }
   ],
   "source": [
    "data"
   ]
  },
  {
   "cell_type": "markdown",
   "metadata": {},
   "source": [
    "## 步骤二：清洗题目数据和特征工程"
   ]
  },
  {
   "cell_type": "markdown",
   "metadata": {},
   "source": [
    "pip install jieba<br><br>\n",
    "**数据清洗方法：**\n",
    "- 使用jieba分词，将中文句子进行分词。\n",
    "- 使用re正则表达式过滤掉中文。\n",
    "\n",
    "正则表达式学习资料\n",
    "\n",
    "[什么是正则表达](http://www.runoob.com/python/python-reg-expressions.html)\n",
    "\n",
    "[正则表达语法汇总](http://www.runoob.com/python/python-reg-expressions.html)\n",
    "\n",
    "[Python正则表达式匹配反斜杠'\\'问题](https://www.cnblogs.com/mzc1997/p/7689235.html)"
   ]
  },
  {
   "cell_type": "markdown",
   "metadata": {},
   "source": [
    "## 选做\n",
    "- 看明白下一格代码的逻辑关系，为其逐行加上注释"
   ]
  },
  {
   "cell_type": "code",
   "outputs": [],
   "source": [
    "import jieba\n",
    "import re\n",
    "import os\n",
    "\n",
    "stop_word_path = os.path.join(os.path.join(os.getcwd(),\n",
    "                                           'stopwords'), 'baidu_stopword.txt')  # 创建中文停用词表路径\n",
    "zh_pattern = re.compile(u'[\\u4e00-\\u9fa5]+')  # 定义正则表达式：unicode字符4e00到9fa5 -> 常用的汉字\n",
    "stop_word = pd.read_csv(stop_word_path, header=None)  # 读常用词 无列名\n",
    "stop_word = stop_word.values.reshape(-1)  # 读取dataframe并转换成数组 横向铺平\n",
    "stop_word = [stop for stop in stop_word]  # 转列表\n",
    "stop_word.append(' ')  # 列表加入空格？ 空格也需要过滤\n",
    "\n",
    "\n",
    "def extract_words(word):\n",
    "    word = str(word).strip()  # 去除首尾空格\n",
    "    zh_word = re.findall(zh_pattern, word)  # 找到word里符合正则表达式要求（即汉字）的部分\n",
    "    lst = jieba.cut(''.join(zh_word), cut_all=False)\n",
    "    # ''.join(zh_word)把所有汉字接一块，jieba.cut进行中文分词，分词返回成list\n",
    "    final_word = [char for char in lst if char not in stop_word]  # 过滤停用词\n",
    "    return ' '.join(final_word)  # 把过滤停用词的，分词的，中文的拼一块输出,中间穿插空格\n",
    "\n",
    "\n",
    "data_e = data['review'].apply(lambda x: extract_words(x))  # 对原始数据里的review列进行函数的操作\n",
    "data_extract = pd.DataFrame(data_e.values, columns=['content'])  #建立新的dataframe，并列名为content"
   ],
   "metadata": {
    "ExecuteTime": {
     "end_time": "2024-08-11T15:24:02.259324500Z",
     "start_time": "2024-08-11T15:23:47.854350800Z"
    }
   },
   "execution_count": 20
  },
  {
   "cell_type": "markdown",
   "source": [
    "### 打印data_pos,data_neg"
   ],
   "metadata": {
    "collapsed": false
   }
  },
  {
   "cell_type": "code",
   "execution_count": 21,
   "metadata": {
    "ExecuteTime": {
     "end_time": "2024-08-11T15:24:09.038695600Z",
     "start_time": "2024-08-11T15:24:02.261325Z"
    }
   },
   "outputs": [
    {
     "data": {
      "text/plain": "0        做 父母 一定 要 有 刘墉 这样 的 心态 不断 地 学习 不断 地 进步 不断 地 给 ...\n1        作者 真有 英国人 严谨 的 风格 提出 观点 进行 论述 论证 尽管 本人 对 物理学 了...\n2        作者 长篇大论 借用 详细 报告 数据处理 工作 和 计算结果 支持 其新 观点 为什么 荷...\n3        作者 在 战 几时 之前 用 了 拥抱 令人 叫绝 日本 如果 没有 战败 就 有 会 有 ...\n4        作者 在 少年 时即 喜 阅读 能 看出 他 精读 了 无数 经典 因而 他 有 一个 庞大...\n                               ...                        \n57759    早餐 比较 差别 的 都 还好 啦 离 香洲 汽车站 满近 的 步行 不到 分钟 也 就 到...\n57760    晚上 到 的 深圳机场 打 的 到 酒店 半个 小时 左右 块 的 样子 酒店 还算快 但是...\n57761    房间 整体 感觉 十分 干净 环境 也 比较 清静 虽然 临街 一边 的 客房 要 相对 吵...\n57762    八月 初 入住 两天 感觉 极好 幽雅 的 庭院式 格局 与 众多 的 现代 高楼 酒店 相...\n57763                   大连 很 不错 的 酒店 了 不过 差点 和 南山 花园 那个 搞错\nName: review, Length: 31721, dtype: object"
     },
     "execution_count": 21,
     "metadata": {},
     "output_type": "execute_result"
    }
   ],
   "source": [
    "# 打印data_pos分词后的内容\n",
    "data_pos = data[data['label'] == 1]\n",
    "data_pos_e = data_pos['review'].apply(lambda x: extract_words(x))\n",
    "data_pos_label = data_pos['label']\n",
    "data_pos_e"
   ]
  },
  {
   "cell_type": "code",
   "outputs": [
    {
     "data": {
      "text/plain": "0        1\n1        1\n2        1\n3        1\n4        1\n        ..\n57759    1\n57760    1\n57761    1\n57762    1\n57763    1\nName: label, Length: 31721, dtype: int64"
     },
     "execution_count": 22,
     "metadata": {},
     "output_type": "execute_result"
    }
   ],
   "source": [
    "data_pos_label"
   ],
   "metadata": {
    "collapsed": false,
    "ExecuteTime": {
     "end_time": "2024-08-11T15:24:09.065206300Z",
     "start_time": "2024-08-11T15:24:09.041696700Z"
    }
   },
   "execution_count": 22
  },
  {
   "cell_type": "code",
   "outputs": [
    {
     "data": {
      "text/plain": "2098     做 为 一本 声名在外 的 流行 书 说 的 还是 广州 的 外企 按 道理 应该 和 我 ...\n2099     作者 有 明显 的 自恋 倾向 只有 有 老公 养 不 上班 的 太太 们 才能 像 她 那...\n2100     作者 完全 是 以 一个 过来 的 自 认为 是 成功者 的 角度 去 写 这个 问题 感觉...\n2101     作者 提倡 内调 不 信任 化妆品 这点 赞同 但是 所 列举 的 方法 太 麻烦 配料 也...\n2102        作者 的 文笔 一般 观点 也 是 和 市面上 的 同类 书 大同小异 不 推荐 读者 购买\n                               ...                        \n62758    我们 去 盐城 的 时候 那里 的 最低气温 只有 度 晚上 冷得 要死 居然 还 不开 空...\n62759    房间 很小 整体 设施 老化 和 四星 的 差距 很大 毛巾 太 破旧 了 早餐 很 简陋 ...\n62760                我 感觉 不行 性价比 很差 不 知道 是 银川 都 这样 还是 怎么 的\n62761    房间 时间 长 进去 有点 异味 服务员 是不是 不够 用 啊 我 在 一楼 找 了 半个 ...\n62762    老人 小孩 一 大家族 聚会 选在 吴宫 泛太平洋 以为 新加坡 品牌 一定 很 不错 没想...\nName: review, Length: 31042, dtype: object"
     },
     "execution_count": 23,
     "metadata": {},
     "output_type": "execute_result"
    }
   ],
   "source": [
    "# 打印data_neg分词后的内容\n",
    "data_neg = data[data['label'] == 0]\n",
    "data_neg_e = data_neg['review'].apply(lambda x: extract_words(x))\n",
    "data_neg_label = data_neg['label']\n",
    "data_neg_e"
   ],
   "metadata": {
    "collapsed": false,
    "ExecuteTime": {
     "end_time": "2024-08-11T15:24:16.238034200Z",
     "start_time": "2024-08-11T15:24:09.056700800Z"
    }
   },
   "execution_count": 23
  },
  {
   "cell_type": "code",
   "outputs": [
    {
     "data": {
      "text/plain": "2098     0\n2099     0\n2100     0\n2101     0\n2102     0\n        ..\n62758    0\n62759    0\n62760    0\n62761    0\n62762    0\nName: label, Length: 31042, dtype: int64"
     },
     "execution_count": 24,
     "metadata": {},
     "output_type": "execute_result"
    }
   ],
   "source": [
    "data_neg_label"
   ],
   "metadata": {
    "collapsed": false,
    "ExecuteTime": {
     "end_time": "2024-08-11T15:24:16.273550400Z",
     "start_time": "2024-08-11T15:24:16.240034800Z"
    }
   },
   "execution_count": 24
  },
  {
   "cell_type": "markdown",
   "metadata": {},
   "source": [
    "## 步骤三：生成样本数据和标签\n",
    "\n",
    "将data_pos,data_neg组装成一个大的dataframe，并为他打上标签。\n",
    "如下图所示：\n",
    "\n",
    "<img src=\"img.png\" style=\"width:10px;height:4px;float:left\">"
   ]
  },
  {
   "cell_type": "markdown",
   "metadata": {},
   "source": [
    "将data_pos,data_neg组装成一个大的dataframe，并为他打上标签。"
   ]
  },
  {
   "cell_type": "code",
   "execution_count": 25,
   "metadata": {
    "ExecuteTime": {
     "end_time": "2024-08-11T15:24:16.321561300Z",
     "start_time": "2024-08-11T15:24:16.258550700Z"
    }
   },
   "outputs": [
    {
     "data": {
      "text/plain": "                                                 content  label\n0      做 父母 一定 要 有 刘墉 这样 的 心态 不断 地 学习 不断 地 进步 不断 地 给 ...      1\n1      作者 真有 英国人 严谨 的 风格 提出 观点 进行 论述 论证 尽管 本人 对 物理学 了...      1\n2      作者 长篇大论 借用 详细 报告 数据处理 工作 和 计算结果 支持 其新 观点 为什么 荷...      1\n3      作者 在 战 几时 之前 用 了 拥抱 令人 叫绝 日本 如果 没有 战败 就 有 会 有 ...      1\n4      作者 在 少年 时即 喜 阅读 能 看出 他 精读 了 无数 经典 因而 他 有 一个 庞大...      1\n...                                                  ...    ...\n62758  我们 去 盐城 的 时候 那里 的 最低气温 只有 度 晚上 冷得 要死 居然 还 不开 空...      0\n62759  房间 很小 整体 设施 老化 和 四星 的 差距 很大 毛巾 太 破旧 了 早餐 很 简陋 ...      0\n62760              我 感觉 不行 性价比 很差 不 知道 是 银川 都 这样 还是 怎么 的      0\n62761  房间 时间 长 进去 有点 异味 服务员 是不是 不够 用 啊 我 在 一楼 找 了 半个 ...      0\n62762  老人 小孩 一 大家族 聚会 选在 吴宫 泛太平洋 以为 新加坡 品牌 一定 很 不错 没想...      0\n\n[62763 rows x 2 columns]",
      "text/html": "<div>\n<style scoped>\n    .dataframe tbody tr th:only-of-type {\n        vertical-align: middle;\n    }\n\n    .dataframe tbody tr th {\n        vertical-align: top;\n    }\n\n    .dataframe thead th {\n        text-align: right;\n    }\n</style>\n<table border=\"1\" class=\"dataframe\">\n  <thead>\n    <tr style=\"text-align: right;\">\n      <th></th>\n      <th>content</th>\n      <th>label</th>\n    </tr>\n  </thead>\n  <tbody>\n    <tr>\n      <th>0</th>\n      <td>做 父母 一定 要 有 刘墉 这样 的 心态 不断 地 学习 不断 地 进步 不断 地 给 ...</td>\n      <td>1</td>\n    </tr>\n    <tr>\n      <th>1</th>\n      <td>作者 真有 英国人 严谨 的 风格 提出 观点 进行 论述 论证 尽管 本人 对 物理学 了...</td>\n      <td>1</td>\n    </tr>\n    <tr>\n      <th>2</th>\n      <td>作者 长篇大论 借用 详细 报告 数据处理 工作 和 计算结果 支持 其新 观点 为什么 荷...</td>\n      <td>1</td>\n    </tr>\n    <tr>\n      <th>3</th>\n      <td>作者 在 战 几时 之前 用 了 拥抱 令人 叫绝 日本 如果 没有 战败 就 有 会 有 ...</td>\n      <td>1</td>\n    </tr>\n    <tr>\n      <th>4</th>\n      <td>作者 在 少年 时即 喜 阅读 能 看出 他 精读 了 无数 经典 因而 他 有 一个 庞大...</td>\n      <td>1</td>\n    </tr>\n    <tr>\n      <th>...</th>\n      <td>...</td>\n      <td>...</td>\n    </tr>\n    <tr>\n      <th>62758</th>\n      <td>我们 去 盐城 的 时候 那里 的 最低气温 只有 度 晚上 冷得 要死 居然 还 不开 空...</td>\n      <td>0</td>\n    </tr>\n    <tr>\n      <th>62759</th>\n      <td>房间 很小 整体 设施 老化 和 四星 的 差距 很大 毛巾 太 破旧 了 早餐 很 简陋 ...</td>\n      <td>0</td>\n    </tr>\n    <tr>\n      <th>62760</th>\n      <td>我 感觉 不行 性价比 很差 不 知道 是 银川 都 这样 还是 怎么 的</td>\n      <td>0</td>\n    </tr>\n    <tr>\n      <th>62761</th>\n      <td>房间 时间 长 进去 有点 异味 服务员 是不是 不够 用 啊 我 在 一楼 找 了 半个 ...</td>\n      <td>0</td>\n    </tr>\n    <tr>\n      <th>62762</th>\n      <td>老人 小孩 一 大家族 聚会 选在 吴宫 泛太平洋 以为 新加坡 品牌 一定 很 不错 没想...</td>\n      <td>0</td>\n    </tr>\n  </tbody>\n</table>\n<p>62763 rows × 2 columns</p>\n</div>"
     },
     "execution_count": 25,
     "metadata": {},
     "output_type": "execute_result"
    }
   ],
   "source": [
    "# 合并pos和neg\n",
    "data_e_concat = pd.concat([data_pos_e, data_neg_e], axis=0)\n",
    "data_label_concat = pd.concat([data_pos_label, data_neg_label], axis=0)\n",
    "df_all = pd.DataFrame({\"content\": data_e_concat.values, \"label\": data_label_concat.values})\n",
    "df_all"
   ]
  },
  {
   "cell_type": "markdown",
   "metadata": {},
   "source": [
    "## 步骤四：Tf-IDF生成文档向量\n",
    "\n",
    "我们使用sklearn的工具来生成Tf-IDF的文档向量，可以理解为把文档的文本数据生成向量数据。\n",
    "[TF-IDF资料](http://www.ruanyifeng.com/blog/2013/03/tf-idf.html)"
   ]
  },
  {
   "cell_type": "markdown",
   "metadata": {},
   "source": [
    "## 选做\n",
    "- 通过上网搜索结合自己的思考，阐明max_df,min_df这两个参数的意义\n",
    "- 为下一格代码增加注释。\n",
    "- 提示：后面的模型可以适当的调整这两个参数达到一个比较好的模型效果"
   ]
  },
  {
   "cell_type": "markdown",
   "source": [],
   "metadata": {
    "collapsed": false
   }
  },
  {
   "cell_type": "code",
   "execution_count": 26,
   "metadata": {
    "ExecuteTime": {
     "end_time": "2024-08-11T15:24:18.409878800Z",
     "start_time": "2024-08-11T15:24:16.291555900Z"
    }
   },
   "outputs": [],
   "source": [
    "# 将分词转换成特征向量\n",
    "\n",
    "from sklearn.feature_extraction.text import CountVectorizer\n",
    "from sklearn.feature_extraction.text import TfidfTransformer\n",
    "\n",
    "'''\n",
    "CountVectorizer会将文本中的词语转换为词频矩阵，它通过fit_transform函数计算各个词语出现的次数。\n",
    "\n",
    "max_df,min_df这两个参数的意义 :\n",
    "1.可以设置为范围在[0.0 1.0]的float，也可以设置为没有范围限制的int，默认为1.0。\n",
    "2.这个参数的作用是作为一个阈值，当构造语料库的关键词集的时候，如果某个词的document frequence大于max_df，这个词不会被当作关键词。\n",
    "3.如果这个参数是float，则表示词出现的次数与语料库文档数的百分比，如果是int，则表示词出现的次数。\n",
    "4.min_df类似于max_df，不同之处在于如果某个词的document frequency小于min_df，则这个词不会被当作关键词\n",
    "\n",
    "它的向量是如何构成的：第一个数字表示是第几个文本，第二个数字表示是第几个词，也就是某个词的索引。外面的数字表示出现了几次\n",
    "'''\n",
    "\n",
    "counter = CountVectorizer(max_df=0.8, min_df=0.001)\n",
    "counts = counter.fit_transform(df_all.content)\n",
    "\n",
    "'''\n",
    "tfidfer用于计算每个词的tf-idf值，其中生成的data，行是文本对应的编号，列是每个词的索引，如果该行文本有对应的列的词\n",
    "该列就会显示该词的tf-idf值，不过最后会对每行归一化，因此每列如果有值，并不一定相等，即使它们是同一个词。\n",
    "'''\n",
    "\n",
    "tfidfer = TfidfTransformer()\n",
    "tfidf = tfidfer.fit_transform(counts)\n",
    "data = tfidf.toarray()\n",
    "label = df_all.label.values"
   ]
  },
  {
   "cell_type": "code",
   "execution_count": 27,
   "metadata": {
    "ExecuteTime": {
     "end_time": "2024-08-11T15:24:18.425883Z",
     "start_time": "2024-08-11T15:24:18.413879800Z"
    }
   },
   "outputs": [
    {
     "name": "stdout",
     "output_type": "stream",
     "text": [
      "[[0.         0.         0.19383409 ... 0.         0.         0.        ]\n",
      " [0.         0.         0.         ... 0.         0.         0.        ]\n",
      " [0.         0.         0.         ... 0.         0.         0.        ]\n",
      " ...\n",
      " [0.         0.         0.         ... 0.         0.         0.        ]\n",
      " [0.18305238 0.         0.         ... 0.         0.         0.        ]\n",
      " [0.         0.         0.         ... 0.         0.         0.        ]] (62763, 2020)\n",
      "[1 1 1 ... 0 0 0] (62763,)\n"
     ]
    }
   ],
   "source": [
    "'''打印data,思考为什么并回答为什么有这么多0？\n",
    "答：因为出现0的地方是这些词并没有在这一行出现,并不是所有词都会出现在同一行\n",
    "而不是0的同一列也并不相等，因为被按行归一化了'''\n",
    "\n",
    "print(data, data.shape)\n",
    "print(label, label.shape)"
   ]
  },
  {
   "cell_type": "code",
   "outputs": [
    {
     "data": {
      "text/plain": "array([[0.        , 0.        , 0.19383409, ..., 0.        , 0.        ,\n        1.        ],\n       [0.        , 0.        , 0.        , ..., 0.        , 0.        ,\n        1.        ],\n       [0.        , 0.        , 0.        , ..., 0.        , 0.        ,\n        1.        ],\n       ...,\n       [0.        , 0.        , 0.        , ..., 0.        , 0.        ,\n        0.        ],\n       [0.18305238, 0.        , 0.        , ..., 0.        , 0.        ,\n        0.        ],\n       [0.        , 0.        , 0.        , ..., 0.        , 0.        ,\n        0.        ]])"
     },
     "execution_count": 28,
     "metadata": {},
     "output_type": "execute_result"
    }
   ],
   "source": [
    "# 合并特征向量和标签，后续可能划分数据集需要使用\n",
    "\n",
    "data_with_labels = np.concatenate((data, label.reshape(-1, 1)), axis=1)\n",
    "data_with_labels"
   ],
   "metadata": {
    "collapsed": false,
    "ExecuteTime": {
     "end_time": "2024-08-11T15:24:18.872495300Z",
     "start_time": "2024-08-11T15:24:18.426882800Z"
    }
   },
   "execution_count": 28
  },
  {
   "cell_type": "markdown",
   "metadata": {},
   "source": [
    "## 步骤五：建立模型"
   ]
  },
  {
   "cell_type": "markdown",
   "source": [
    "#### 数据集划分"
   ],
   "metadata": {
    "collapsed": false
   }
  },
  {
   "cell_type": "code",
   "outputs": [],
   "source": [
    "from sklearn.model_selection import train_test_split"
   ],
   "metadata": {
    "collapsed": false,
    "ExecuteTime": {
     "end_time": "2024-08-11T15:24:18.901296700Z",
     "start_time": "2024-08-11T15:24:18.874496400Z"
    }
   },
   "execution_count": 29
  },
  {
   "cell_type": "code",
   "outputs": [
    {
     "name": "stdout",
     "output_type": "stream",
     "text": [
      "(50210, 2020) (12553, 2020) (50210,) (12553,)\n",
      "训练集正样本个数： 25402\n",
      "训练集负样本个数： 24808\n",
      "测试集正样本个数： 6319\n",
      "测试集负样本个数： 6234\n"
     ]
    }
   ],
   "source": [
    "X_train, X_test, y_train, y_test = train_test_split(data, label, test_size=0.2, random_state=0)\n",
    "print(X_train.shape, X_test.shape, y_train.shape, y_test.shape)\n",
    "\n",
    "# 查看一下正负样本是否均匀\n",
    "y_train_1_num = [i for i in y_train if i == 1]\n",
    "y_train_0_num = [i for i in y_train if i == 0]\n",
    "y_test_1_num = [i for i in y_test if i == 1]\n",
    "y_test_0_num = [i for i in y_test if i == 0]\n",
    "\n",
    "print(\"训练集正样本个数：\", len(y_train_1_num))\n",
    "print(\"训练集负样本个数：\", len(y_train_0_num))\n",
    "print(\"测试集正样本个数：\", len(y_test_1_num))\n",
    "print(\"测试集负样本个数：\", len(y_test_0_num))"
   ],
   "metadata": {
    "ExecuteTime": {
     "end_time": "2024-08-11T15:30:10.235518300Z",
     "start_time": "2024-08-11T15:30:09.831472600Z"
    }
   },
   "execution_count": 32
  },
  {
   "cell_type": "markdown",
   "source": [
    "#### 测试指标"
   ],
   "metadata": {
    "collapsed": false
   }
  },
  {
   "cell_type": "code",
   "outputs": [],
   "source": [
    "from sklearn.metrics import accuracy_score, make_scorer"
   ],
   "metadata": {
    "collapsed": false
   },
   "execution_count": 78
  },
  {
   "cell_type": "code",
   "outputs": [],
   "source": [
    " #计算准确率\n",
    "\n",
    "def get_accuracy(model, X_train, X_test, y_train, y_test):\n",
    "    y_train_pred = model.predict(X_train)\n",
    "    y_test_pred = model.predict(X_test)\n",
    "    acc_train = accuracy_score(y_train, y_train_pred).round(4)\n",
    "    acc_test = accuracy_score(y_test, y_test_pred).round(4)\n",
    "    print('Train accuracy:', acc_train)\n",
    "    print('Test accuracy:', acc_test)"
   ],
   "metadata": {
    "collapsed": false
   }
  },
  {
   "cell_type": "code",
   "outputs": [],
   "source": [
    "# 导入网格搜索和随机搜索 准备调参\n",
    "from sklearn.model_selection import GridSearchCV, RandomizedSearchCV\n",
    "import time"
   ],
   "metadata": {
    "collapsed": false,
    "ExecuteTime": {
     "end_time": "2024-08-05T12:05:32.203054700Z",
     "start_time": "2024-08-05T12:05:32.095959800Z"
    }
   },
   "execution_count": 49
  },
  {
   "cell_type": "markdown",
   "source": [
    "### 随机森林"
   ],
   "metadata": {
    "collapsed": false
   }
  },
  {
   "cell_type": "code",
   "outputs": [],
   "source": [
    "from sklearn.ensemble import RandomForestClassifier"
   ],
   "metadata": {
    "collapsed": false,
    "ExecuteTime": {
     "end_time": "2024-08-06T04:10:19.668780300Z",
     "start_time": "2024-08-06T04:10:19.436704400Z"
    }
   },
   "execution_count": 39
  },
  {
   "cell_type": "code",
   "outputs": [],
   "source": [
    "#随机森林体量大，耗时长，参数多，先用随机网格缩小范围\n",
    "\n",
    "start = time.time()\n",
    "lr = RandomForestClassifier(random_state=0)\n",
    "params = {\"n_estimators\": list(range(1, 500, 50)), \"max_depth\": list(range(1, 200, 50))}\n",
    "gs_lr = RandomizedSearchCV(estimator=lr, param_distributions=params, cv=5,\n",
    "                           scoring=make_scorer(accuracy_score, greater_is_better=True))\n",
    "gs_lr.fit(X_train, y_train)\n",
    "end = time.time()"
   ],
   "metadata": {
    "collapsed": false
   },
   "execution_count": 0
  },
  {
   "cell_type": "code",
   "outputs": [
    {
     "name": "stdout",
     "output_type": "stream",
     "text": [
      "time taken to 2870.402 S\n",
      "accuracy =  0.8566572839768443\n",
      "{'n_estimators': 251, 'max_depth': 151}\n",
      "0.8551463473073996\n"
     ]
    }
   ],
   "source": [
    "print(\"time taken to\", round(float(end - start), 3), 'S')\n",
    "print('accuracy = ', accuracy_score(y_test, gs_lr.predict(X_test)))\n",
    "print(gs_lr.best_params_)\n",
    "print(gs_lr.best_score_)"
   ],
   "metadata": {
    "collapsed": false,
    "ExecuteTime": {
     "end_time": "2024-08-05T07:15:10.563126500Z",
     "start_time": "2024-08-05T07:15:04.424278Z"
    }
   },
   "execution_count": 64
  },
  {
   "cell_type": "code",
   "outputs": [
    {
     "name": "stdout",
     "output_type": "stream",
     "text": [
      "Fitting 3 folds for each of 16 candidates, totalling 48 fits\n",
      "[CV 1/3] END ...max_depth=100, n_estimators=200;, score=0.851 total time= 1.6min\n",
      "[CV 2/3] END ...max_depth=100, n_estimators=200;, score=0.846 total time= 1.7min\n",
      "[CV 3/3] END ...max_depth=100, n_estimators=200;, score=0.848 total time= 2.0min\n",
      "[CV 1/3] END ...max_depth=100, n_estimators=230;, score=0.850 total time= 2.4min\n",
      "[CV 2/3] END ...max_depth=100, n_estimators=230;, score=0.847 total time= 2.2min\n",
      "[CV 3/3] END ...max_depth=100, n_estimators=230;, score=0.849 total time= 1.8min\n",
      "[CV 1/3] END ...max_depth=100, n_estimators=260;, score=0.851 total time= 2.2min\n",
      "[CV 2/3] END ...max_depth=100, n_estimators=260;, score=0.846 total time= 2.1min\n",
      "[CV 3/3] END ...max_depth=100, n_estimators=260;, score=0.848 total time= 2.2min\n",
      "[CV 1/3] END ...max_depth=100, n_estimators=290;, score=0.851 total time= 2.7min\n",
      "[CV 2/3] END ...max_depth=100, n_estimators=290;, score=0.846 total time= 2.6min\n",
      "[CV 3/3] END ...max_depth=100, n_estimators=290;, score=0.849 total time= 2.3min\n",
      "[CV 1/3] END ...max_depth=130, n_estimators=200;, score=0.856 total time= 1.7min\n",
      "[CV 2/3] END ...max_depth=130, n_estimators=200;, score=0.850 total time= 1.7min\n",
      "[CV 3/3] END ...max_depth=130, n_estimators=200;, score=0.853 total time= 1.7min\n",
      "[CV 1/3] END ...max_depth=130, n_estimators=230;, score=0.856 total time= 1.9min\n",
      "[CV 2/3] END ...max_depth=130, n_estimators=230;, score=0.850 total time= 1.9min\n",
      "[CV 3/3] END ...max_depth=130, n_estimators=230;, score=0.853 total time= 1.9min\n",
      "[CV 1/3] END ...max_depth=130, n_estimators=260;, score=0.855 total time= 2.2min\n",
      "[CV 2/3] END ...max_depth=130, n_estimators=260;, score=0.849 total time= 2.1min\n",
      "[CV 3/3] END ...max_depth=130, n_estimators=260;, score=0.853 total time= 2.1min\n",
      "[CV 1/3] END ...max_depth=130, n_estimators=290;, score=0.856 total time= 2.4min\n",
      "[CV 2/3] END ...max_depth=130, n_estimators=290;, score=0.850 total time= 2.4min\n",
      "[CV 3/3] END ...max_depth=130, n_estimators=290;, score=0.853 total time= 2.4min\n",
      "[CV 1/3] END ...max_depth=160, n_estimators=200;, score=0.860 total time= 1.8min\n",
      "[CV 2/3] END ...max_depth=160, n_estimators=200;, score=0.850 total time= 1.8min\n",
      "[CV 3/3] END ...max_depth=160, n_estimators=200;, score=0.854 total time= 1.8min\n",
      "[CV 1/3] END ...max_depth=160, n_estimators=230;, score=0.860 total time= 2.0min\n",
      "[CV 2/3] END ...max_depth=160, n_estimators=230;, score=0.851 total time= 2.0min\n",
      "[CV 3/3] END ...max_depth=160, n_estimators=230;, score=0.854 total time= 2.1min\n",
      "[CV 1/3] END ...max_depth=160, n_estimators=260;, score=0.860 total time= 2.3min\n",
      "[CV 2/3] END ...max_depth=160, n_estimators=260;, score=0.851 total time= 2.3min\n",
      "[CV 3/3] END ...max_depth=160, n_estimators=260;, score=0.854 total time= 2.3min\n",
      "[CV 1/3] END ...max_depth=160, n_estimators=290;, score=0.860 total time= 2.6min\n",
      "[CV 2/3] END ...max_depth=160, n_estimators=290;, score=0.851 total time= 2.6min\n",
      "[CV 3/3] END ...max_depth=160, n_estimators=290;, score=0.855 total time= 2.6min\n",
      "[CV 1/3] END ...max_depth=190, n_estimators=200;, score=0.862 total time= 1.9min\n",
      "[CV 2/3] END ...max_depth=190, n_estimators=200;, score=0.853 total time= 1.9min\n",
      "[CV 3/3] END ...max_depth=190, n_estimators=200;, score=0.856 total time= 1.9min\n",
      "[CV 1/3] END ...max_depth=190, n_estimators=230;, score=0.862 total time= 2.2min\n",
      "[CV 2/3] END ...max_depth=190, n_estimators=230;, score=0.854 total time= 2.2min\n",
      "[CV 3/3] END ...max_depth=190, n_estimators=230;, score=0.857 total time= 2.2min\n",
      "[CV 1/3] END ...max_depth=190, n_estimators=260;, score=0.862 total time= 2.5min\n",
      "[CV 2/3] END ...max_depth=190, n_estimators=260;, score=0.853 total time= 2.5min\n",
      "[CV 3/3] END ...max_depth=190, n_estimators=260;, score=0.857 total time= 2.5min\n",
      "[CV 1/3] END ...max_depth=190, n_estimators=290;, score=0.862 total time= 2.8min\n",
      "[CV 2/3] END ...max_depth=190, n_estimators=290;, score=0.853 total time= 2.7min\n",
      "[CV 3/3] END ...max_depth=190, n_estimators=290;, score=0.857 total time= 2.8min\n"
     ]
    }
   ],
   "source": [
    "#再用网格搜索\n",
    "\n",
    "start = time.time()\n",
    "lr = RandomForestClassifier(random_state=0)\n",
    "params = {\"n_estimators\": list(range(200, 300, 30)), \"max_depth\": list(range(100, 200, 30))}\n",
    "gs_lr = GridSearchCV(lr, params, cv=3, scoring=make_scorer(accuracy_score, greater_is_better=True), verbose=3)\n",
    "gs_lr.fit(X_train, y_train)\n",
    "end = time.time()"
   ],
   "metadata": {
    "collapsed": false,
    "ExecuteTime": {
     "end_time": "2024-08-05T14:32:13.230593500Z",
     "start_time": "2024-08-05T12:44:18.987954100Z"
    }
   },
   "execution_count": 57
  },
  {
   "cell_type": "code",
   "outputs": [
    {
     "name": "stdout",
     "output_type": "stream",
     "text": [
      "{'max_depth': 190, 'n_estimators': 230}\n",
      "0.857650099985368\n",
      "time taken to 6474.197 S\n",
      "accuracy =  0.8583567900578895\n"
     ]
    }
   ],
   "source": [
    "# 打印随机森林的网格搜索结果\n",
    "\n",
    "print(gs_lr.best_params_)\n",
    "print(gs_lr.best_score_)\n",
    "print(\"time taken to\", round(float(end - start), 3), 'S')\n",
    "print('accuracy = ', accuracy_score(y_test, gs_lr.predict(X_test)))"
   ],
   "metadata": {
    "collapsed": false,
    "ExecuteTime": {
     "end_time": "2024-08-05T14:32:19.672722400Z",
     "start_time": "2024-08-05T14:32:13.267601900Z"
    }
   },
   "execution_count": 58
  },
  {
   "cell_type": "code",
   "outputs": [
    {
     "name": "stdout",
     "output_type": "stream",
     "text": [
      "accuracy =  0.8598969674438366\n"
     ]
    }
   ],
   "source": [
    "# 打印随机森林的最优参数下的结果\n",
    "\n",
    "sentiment = RandomForestClassifier(max_depth=190, n_estimators=230)\n",
    "sentiment.fit(X_train, y_train)\n",
    "print('accuracy = ', accuracy_score(y_test, sentiment.predict(X_test)))"
   ],
   "metadata": {
    "collapsed": false,
    "ExecuteTime": {
     "end_time": "2024-08-06T04:14:20.691829300Z",
     "start_time": "2024-08-06T04:10:22.494699500Z"
    }
   },
   "execution_count": 40
  },
  {
   "cell_type": "markdown",
   "source": [
    "### Logistic 回归"
   ],
   "metadata": {
    "collapsed": false
   }
  },
  {
   "cell_type": "code",
   "outputs": [],
   "source": [
    "from sklearn.linear_model import LogisticRegression"
   ],
   "metadata": {
    "collapsed": false,
    "ExecuteTime": {
     "end_time": "2024-08-06T04:07:23.264373200Z",
     "start_time": "2024-08-06T04:07:22.417355600Z"
    }
   },
   "execution_count": 29
  },
  {
   "cell_type": "code",
   "outputs": [
    {
     "name": "stdout",
     "output_type": "stream",
     "text": [
      "Fitting 3 folds for each of 12 candidates, totalling 36 fits\n",
      "[CV 1/3] END .................C=0.1, penalty=l2;, score=0.865 total time=   7.3s\n",
      "[CV 2/3] END .................C=0.1, penalty=l2;, score=0.857 total time=   8.1s\n",
      "[CV 3/3] END .................C=0.1, penalty=l2;, score=0.863 total time=   7.0s\n",
      "[CV 1/3] END .................C=0.1, penalty=l1;, score=0.825 total time=   9.9s\n",
      "[CV 2/3] END .................C=0.1, penalty=l1;, score=0.811 total time=   9.3s\n",
      "[CV 3/3] END .................C=0.1, penalty=l1;, score=0.820 total time=  10.4s\n",
      "[CV 1/3] END .................C=0.3, penalty=l2;, score=0.875 total time=   7.6s\n",
      "[CV 2/3] END .................C=0.3, penalty=l2;, score=0.868 total time=   7.6s\n",
      "[CV 3/3] END .................C=0.3, penalty=l2;, score=0.873 total time=   7.4s\n",
      "[CV 1/3] END .................C=0.3, penalty=l1;, score=0.865 total time=   9.8s\n",
      "[CV 2/3] END .................C=0.3, penalty=l1;, score=0.855 total time=  10.4s\n",
      "[CV 3/3] END .................C=0.3, penalty=l1;, score=0.859 total time=   9.8s\n",
      "[CV 1/3] END .................C=0.5, penalty=l2;, score=0.877 total time=   7.7s\n",
      "[CV 2/3] END .................C=0.5, penalty=l2;, score=0.871 total time=   7.5s\n",
      "[CV 3/3] END .................C=0.5, penalty=l2;, score=0.876 total time=   7.1s\n",
      "[CV 1/3] END .................C=0.5, penalty=l1;, score=0.873 total time=  13.2s\n",
      "[CV 2/3] END .................C=0.5, penalty=l1;, score=0.865 total time=  10.2s\n",
      "[CV 3/3] END .................C=0.5, penalty=l1;, score=0.871 total time=  10.0s\n",
      "[CV 1/3] END .................C=0.7, penalty=l2;, score=0.878 total time=   7.7s\n",
      "[CV 2/3] END .................C=0.7, penalty=l2;, score=0.873 total time=   7.8s\n",
      "[CV 3/3] END .................C=0.7, penalty=l2;, score=0.877 total time=   7.4s\n",
      "[CV 1/3] END .................C=0.7, penalty=l1;, score=0.875 total time=  16.3s\n",
      "[CV 2/3] END .................C=0.7, penalty=l1;, score=0.869 total time=  11.1s\n",
      "[CV 3/3] END .................C=0.7, penalty=l1;, score=0.873 total time=  10.3s\n",
      "[CV 1/3] END .................C=0.9, penalty=l2;, score=0.880 total time=   8.9s\n",
      "[CV 2/3] END .................C=0.9, penalty=l2;, score=0.873 total time=   7.7s\n",
      "[CV 3/3] END .................C=0.9, penalty=l2;, score=0.877 total time=   7.4s\n",
      "[CV 1/3] END .................C=0.9, penalty=l1;, score=0.876 total time=  19.1s\n",
      "[CV 2/3] END .................C=0.9, penalty=l1;, score=0.872 total time=  13.1s\n",
      "[CV 3/3] END .................C=0.9, penalty=l1;, score=0.875 total time=  13.8s\n",
      "[CV 1/3] END .................C=1.0, penalty=l2;, score=0.880 total time=   8.9s\n",
      "[CV 2/3] END .................C=1.0, penalty=l2;, score=0.874 total time=   7.4s\n",
      "[CV 3/3] END .................C=1.0, penalty=l2;, score=0.877 total time=   7.2s\n",
      "[CV 1/3] END .................C=1.0, penalty=l1;, score=0.876 total time=  21.1s\n",
      "[CV 2/3] END .................C=1.0, penalty=l1;, score=0.873 total time=  14.6s\n",
      "[CV 3/3] END .................C=1.0, penalty=l1;, score=0.875 total time=  15.1s\n"
     ]
    }
   ],
   "source": [
    "# 参数量较小，可以直接使用网格搜索\n",
    "start = time.time()\n",
    "lr = LogisticRegression(solver='saga', random_state=0)  # 不设置soga会导致l1的score全部为nan\n",
    "params = {\"penalty\": ['l2', 'l1'], \"C\": [0.1, 0.3, 0.5, 0.7, 0.9, 1.0]}\n",
    "gs_lr = GridSearchCV(lr, params, cv=3, scoring=make_scorer(accuracy_score, greater_is_better=True), verbose=3)\n",
    "gs_lr.fit(X_train, y_train)\n",
    "end = time.time()"
   ],
   "metadata": {
    "collapsed": false,
    "ExecuteTime": {
     "end_time": "2024-08-05T14:38:41.183428900Z",
     "start_time": "2024-08-05T14:32:19.701729300Z"
    }
   },
   "execution_count": 60
  },
  {
   "cell_type": "code",
   "outputs": [
    {
     "name": "stdout",
     "output_type": "stream",
     "text": [
      "time taken to 381.47 S\n",
      "accuracy =  0.8789633012905624\n",
      "{'C': 1.0, 'penalty': 'l2'}\n",
      "0.8768607507172931\n"
     ]
    }
   ],
   "source": [
    "print(\"time taken to\", round(float(end - start), 3), 'S')\n",
    "print('accuracy = ', accuracy_score(y_test, gs_lr.predict(X_test)))\n",
    "print(gs_lr.best_params_)\n",
    "print(gs_lr.best_score_)"
   ],
   "metadata": {
    "collapsed": false,
    "ExecuteTime": {
     "end_time": "2024-08-05T14:38:41.263446800Z",
     "start_time": "2024-08-05T14:38:41.192431700Z"
    }
   },
   "execution_count": 61
  },
  {
   "cell_type": "code",
   "outputs": [
    {
     "name": "stdout",
     "output_type": "stream",
     "text": [
      "accuracy =  0.8789101917255298\n"
     ]
    }
   ],
   "source": [
    "# 打印Logistic的最优参数下的结果\n",
    "\n",
    "sentiment = LogisticRegression(penalty='l2', C=1.0)\n",
    "sentiment.fit(X_train, y_train)\n",
    "print('accuracy = ', accuracy_score(y_test, sentiment.predict(X_test)))"
   ],
   "metadata": {
    "collapsed": false,
    "ExecuteTime": {
     "end_time": "2024-08-06T04:08:08.592834Z",
     "start_time": "2024-08-06T04:08:03.004895600Z"
    }
   },
   "execution_count": 35
  },
  {
   "cell_type": "markdown",
   "source": [
    "### 决策树"
   ],
   "metadata": {
    "collapsed": false
   }
  },
  {
   "cell_type": "code",
   "outputs": [],
   "source": [
    "from sklearn.tree import DecisionTreeClassifier"
   ],
   "metadata": {
    "collapsed": false,
    "ExecuteTime": {
     "end_time": "2024-08-06T04:09:23.915976100Z",
     "start_time": "2024-08-06T04:09:23.622862600Z"
    }
   },
   "execution_count": 37
  },
  {
   "cell_type": "code",
   "outputs": [
    {
     "name": "stdout",
     "output_type": "stream",
     "text": [
      "Fitting 3 folds for each of 10 candidates, totalling 30 fits\n",
      "[CV 1/3] END .......................max_depth=1;, score=0.666 total time=   0.7s\n",
      "[CV 2/3] END .......................max_depth=1;, score=0.656 total time=   0.7s\n",
      "[CV 3/3] END .......................max_depth=1;, score=0.654 total time=   0.8s\n",
      "[CV 1/3] END ......................max_depth=11;, score=0.733 total time=   4.4s\n",
      "[CV 2/3] END ......................max_depth=11;, score=0.735 total time=   4.3s\n",
      "[CV 3/3] END ......................max_depth=11;, score=0.730 total time=   4.4s\n",
      "[CV 1/3] END ......................max_depth=21;, score=0.770 total time=   7.4s\n",
      "[CV 2/3] END ......................max_depth=21;, score=0.764 total time=   7.5s\n",
      "[CV 3/3] END ......................max_depth=21;, score=0.766 total time=   7.4s\n",
      "[CV 1/3] END ......................max_depth=31;, score=0.782 total time=  10.2s\n",
      "[CV 2/3] END ......................max_depth=31;, score=0.773 total time=  10.1s\n",
      "[CV 3/3] END ......................max_depth=31;, score=0.774 total time=  10.1s\n",
      "[CV 1/3] END ......................max_depth=41;, score=0.787 total time=  12.7s\n",
      "[CV 2/3] END ......................max_depth=41;, score=0.781 total time=  12.6s\n",
      "[CV 3/3] END ......................max_depth=41;, score=0.781 total time=  12.6s\n",
      "[CV 1/3] END ......................max_depth=51;, score=0.792 total time=  15.0s\n",
      "[CV 2/3] END ......................max_depth=51;, score=0.786 total time=  14.9s\n",
      "[CV 3/3] END ......................max_depth=51;, score=0.784 total time=  14.8s\n",
      "[CV 1/3] END ......................max_depth=61;, score=0.797 total time=  17.2s\n",
      "[CV 2/3] END ......................max_depth=61;, score=0.794 total time=  16.9s\n",
      "[CV 3/3] END ......................max_depth=61;, score=0.794 total time=  17.0s\n",
      "[CV 1/3] END ......................max_depth=71;, score=0.797 total time=  19.1s\n",
      "[CV 2/3] END ......................max_depth=71;, score=0.795 total time=  18.8s\n",
      "[CV 3/3] END ......................max_depth=71;, score=0.797 total time=  18.9s\n",
      "[CV 1/3] END ......................max_depth=81;, score=0.804 total time=  21.0s\n",
      "[CV 2/3] END ......................max_depth=81;, score=0.799 total time=  20.3s\n",
      "[CV 3/3] END ......................max_depth=81;, score=0.802 total time=  20.8s\n",
      "[CV 1/3] END ......................max_depth=91;, score=0.806 total time=  22.8s\n",
      "[CV 2/3] END ......................max_depth=91;, score=0.801 total time=  22.4s\n",
      "[CV 3/3] END ......................max_depth=91;, score=0.801 total time=  22.6s\n"
     ]
    }
   ],
   "source": [
    "# 网格搜索\n",
    "start = time.time()\n",
    "lr = DecisionTreeClassifier()\n",
    "params = {\"max_depth\": list(range(1, 100, 10))}\n",
    "gs_lr = GridSearchCV(lr, params, cv=3, scoring=make_scorer(accuracy_score, greater_is_better=True), verbose=3)\n",
    "gs_lr.fit(X_train, y_train)\n",
    "end = time.time()"
   ],
   "metadata": {
    "collapsed": false,
    "ExecuteTime": {
     "end_time": "2024-08-05T14:45:49.104231600Z",
     "start_time": "2024-08-05T14:38:41.335330600Z"
    }
   },
   "execution_count": 63
  },
  {
   "cell_type": "code",
   "outputs": [
    {
     "name": "stdout",
     "output_type": "stream",
     "text": [
      "time taken to 427.76 S\n",
      "accuracy =  0.8067342928461416\n",
      "{'max_depth': 91}\n",
      "0.8029543967310104\n"
     ]
    }
   ],
   "source": [
    "print(\"time taken to\", round(float(end - start), 3), 'S')\n",
    "print('accuracy = ', accuracy_score(y_test, gs_lr.predict(X_test)))\n",
    "print(gs_lr.best_params_)\n",
    "print(gs_lr.best_score_)"
   ],
   "metadata": {
    "collapsed": false,
    "ExecuteTime": {
     "end_time": "2024-08-05T14:45:49.236262400Z",
     "start_time": "2024-08-05T14:45:49.110234100Z"
    }
   },
   "execution_count": 64
  },
  {
   "cell_type": "code",
   "outputs": [
    {
     "name": "stdout",
     "output_type": "stream",
     "text": [
      "accuracy =  0.8065749641510436\n"
     ]
    }
   ],
   "source": [
    "# 打印决策树的最优参数下的结果\n",
    "\n",
    "sentiment = DecisionTreeClassifier(max_depth=91)\n",
    "sentiment.fit(X_train, y_train)\n",
    "print('accuracy = ', accuracy_score(y_test, sentiment.predict(X_test)))"
   ],
   "metadata": {
    "collapsed": false,
    "ExecuteTime": {
     "end_time": "2024-08-06T04:10:06.285532400Z",
     "start_time": "2024-08-06T04:09:25.909021300Z"
    }
   },
   "execution_count": 38
  },
  {
   "cell_type": "markdown",
   "source": [
    "### 全连接神经网络（Pytorch实现）"
   ],
   "metadata": {
    "collapsed": false
   }
  },
  {
   "cell_type": "markdown",
   "source": [
    "#### 导入库 创建模型保存路径 使用GPU训练"
   ],
   "metadata": {
    "collapsed": false
   }
  },
  {
   "cell_type": "code",
   "outputs": [
    {
     "name": "stdout",
     "output_type": "stream",
     "text": [
      "cuda\n"
     ]
    }
   ],
   "source": [
    "import torch\n",
    "import torch.nn as nn\n",
    "import torch.optim as optim\n",
    "from torch.utils.data import DataLoader, TensorDataset, random_split\n",
    "import os\n",
    "\n",
    "# 将结果保存到results文件夹\n",
    "if not os.path.exists('results_of_nn'):\n",
    "    os.makedirs('results_of_nn')\n",
    "\n",
    "# 使用GPU\n",
    "device = torch.device(\"cuda\" if torch.cuda.is_available() else \"cpu\")\n",
    "print(device)"
   ],
   "metadata": {
    "collapsed": false,
    "ExecuteTime": {
     "end_time": "2024-08-07T07:34:17.430243100Z",
     "start_time": "2024-08-07T07:34:17.398237Z"
    }
   },
   "execution_count": 58
  },
  {
   "cell_type": "markdown",
   "source": [
    "#### 准备数据"
   ],
   "metadata": {
    "collapsed": false
   }
  },
  {
   "cell_type": "code",
   "outputs": [
    {
     "name": "stdout",
     "output_type": "stream",
     "text": [
      "torch.Size([45189, 1698]) torch.Size([45189])\n",
      "torch.Size([5021, 1698]) torch.Size([5021])\n",
      "torch.Size([12553, 1698]) torch.Size([12553])\n"
     ]
    }
   ],
   "source": [
    "# 划分数据集为训练集和测试集，这里使用的就是之前合并的data和label\n",
    "train_set, test_set = train_test_split(data_with_labels, test_size=0.2, random_state=0)\n",
    "\n",
    "# 从训练集和测试集中分离出特征和标签\n",
    "X_train_val = train_set[:, :-1]\n",
    "y_train_val = train_set[:, -1]\n",
    "X_test = test_set[:, :-1]\n",
    "y_test = test_set[:, -1]\n",
    "\n",
    "# 将训练集划分为训练集和验证集，综合来看，按照7:1:2比例划分训练集，验证集，测试集\n",
    "X_train, X_val, y_train, y_val = train_test_split(X_train_val, y_train_val, test_size=0.1, random_state=0)\n",
    "\n",
    "# 将数据转换为PyTorch张量\n",
    "X_train = torch.tensor(X_train, dtype=torch.float32).to(device)\n",
    "y_train = torch.tensor(y_train, dtype=torch.float32).to(device)\n",
    "X_val = torch.tensor(X_val, dtype=torch.float32).to(device)\n",
    "y_val = torch.tensor(y_val, dtype=torch.float32).to(device)\n",
    "X_test = torch.tensor(X_test, dtype=torch.float32).to(device)\n",
    "y_test = torch.tensor(y_test, dtype=torch.float32).to(device)\n",
    "\n",
    "# 创建TensorDataset和DataLoader\n",
    "train_dataset = TensorDataset(X_train, y_train)\n",
    "val_dataset = TensorDataset(X_val, y_val)\n",
    "test_dataset = TensorDataset(X_test, y_test)\n",
    "\n",
    "train_loader = DataLoader(train_dataset, batch_size=512, shuffle=True)\n",
    "val_loader = DataLoader(val_dataset, batch_size=512, shuffle=False)\n",
    "test_loader = DataLoader(test_dataset, batch_size=512, shuffle=False)\n",
    "\n",
    "# 打印数据形状\n",
    "print(X_train.shape, y_train.shape)\n",
    "print(X_val.shape, y_val.shape)\n",
    "print(X_test.shape, y_test.shape)"
   ],
   "metadata": {
    "collapsed": false,
    "ExecuteTime": {
     "end_time": "2024-08-07T07:34:19.889004700Z",
     "start_time": "2024-08-07T07:34:18.877459Z"
    }
   },
   "execution_count": 59
  },
  {
   "cell_type": "markdown",
   "source": [
    "#### 定义模型"
   ],
   "metadata": {
    "collapsed": false
   }
  },
  {
   "cell_type": "code",
   "outputs": [],
   "source": [
    "#模型就是几个简单的全连接层\n",
    "\n",
    "class SentimentAnalysisModel(nn.Module):\n",
    "    def __init__(self, input_dim):\n",
    "        super(SentimentAnalysisModel, self).__init__()\n",
    "        self.fc1 = nn.Linear(input_dim, 512)\n",
    "        self.dropout1 = nn.Dropout(0.5)\n",
    "\n",
    "        self.fc2 = nn.Linear(512, 256)\n",
    "        self.dropout2 = nn.Dropout(0.5)\n",
    "\n",
    "        self.fc3 = nn.Linear(256, 128)\n",
    "        self.dropout3 = nn.Dropout(0.5)\n",
    "\n",
    "        self.fc4 = nn.Linear(128, 1)\n",
    "\n",
    "    def forward(self, x):\n",
    "        x = torch.relu(self.fc1(x))\n",
    "        x = self.dropout1(x)\n",
    "        x = torch.relu(self.fc2(x))\n",
    "        x = self.dropout2(x)\n",
    "        x = torch.relu(self.fc3(x))\n",
    "        x = self.dropout3(x)\n",
    "        x = torch.sigmoid(self.fc4(x))\n",
    "        return x\n",
    "\n",
    "\n",
    "input_dim = data.shape[1]\n",
    "model = SentimentAnalysisModel(input_dim).to(device)"
   ],
   "metadata": {
    "collapsed": false,
    "ExecuteTime": {
     "end_time": "2024-08-07T07:11:41.662511100Z",
     "start_time": "2024-08-07T07:11:41.592495600Z"
    }
   },
   "execution_count": 30
  },
  {
   "cell_type": "markdown",
   "source": [
    "#### 优化器和损失函数"
   ],
   "metadata": {
    "collapsed": false
   }
  },
  {
   "cell_type": "code",
   "outputs": [],
   "source": [
    "# 交叉熵损失，adam优化器，学习率1e-5\n",
    "\n",
    "criterion = nn.BCELoss()\n",
    "optimizer = optim.Adam(model.parameters(), lr=1e-5, weight_decay=1e-5)"
   ],
   "metadata": {
    "collapsed": false,
    "ExecuteTime": {
     "end_time": "2024-08-07T07:11:42.090301700Z",
     "start_time": "2024-08-07T07:11:42.050292700Z"
    }
   },
   "execution_count": 31
  },
  {
   "cell_type": "markdown",
   "source": [
    "#### 训练/根据周期测试结果保存模型"
   ],
   "metadata": {
    "collapsed": false
   }
  },
  {
   "cell_type": "code",
   "outputs": [
    {
     "name": "stdout",
     "output_type": "stream",
     "text": [
      "Val Accuracy after epoch 1: 0.5053\n",
      "best epoch at :  0 , best accuracy :  0.5052778331009758\n",
      "Val Accuracy after epoch 2: 0.5053\n",
      "best epoch at :  0 , best accuracy :  0.5052778331009758\n",
      "Val Accuracy after epoch 3: 0.5053\n",
      "best epoch at :  0 , best accuracy :  0.5052778331009758\n",
      "Val Accuracy after epoch 4: 0.5290\n",
      "best epoch at :  3 , best accuracy :  0.5289782911770564\n",
      "Val Accuracy after epoch 5: 0.7969\n",
      "best epoch at :  4 , best accuracy :  0.7968532164907389\n",
      "Val Accuracy after epoch 6: 0.7829\n",
      "best epoch at :  4 , best accuracy :  0.7968532164907389\n",
      "Val Accuracy after epoch 7: 0.7431\n",
      "best epoch at :  4 , best accuracy :  0.7968532164907389\n",
      "Val Accuracy after epoch 8: 0.7809\n",
      "best epoch at :  4 , best accuracy :  0.7968532164907389\n",
      "Val Accuracy after epoch 9: 0.8229\n",
      "best epoch at :  8 , best accuracy :  0.8229436367257519\n",
      "Val Accuracy after epoch 10: 0.8371\n",
      "best epoch at :  9 , best accuracy :  0.8370842461661023\n",
      "Val Accuracy after epoch 11: 0.8429\n",
      "best epoch at :  10 , best accuracy :  0.8428599880501892\n",
      "Val Accuracy after epoch 12: 0.8460\n",
      "best epoch at :  11 , best accuracy :  0.8460466042620992\n",
      "Val Accuracy after epoch 13: 0.8492\n",
      "best epoch at :  12 , best accuracy :  0.8492332204740092\n",
      "Val Accuracy after epoch 14: 0.8532\n",
      "best epoch at :  13 , best accuracy :  0.8532164907388966\n",
      "Val Accuracy after epoch 15: 0.8552\n",
      "best epoch at :  14 , best accuracy :  0.8552081258713403\n",
      "Val Accuracy after epoch 16: 0.8578\n",
      "best epoch at :  15 , best accuracy :  0.8577972515435173\n",
      "Val Accuracy after epoch 17: 0.8610\n",
      "best epoch at :  16 , best accuracy :  0.8609838677554272\n",
      "Val Accuracy after epoch 18: 0.8640\n",
      "best epoch at :  17 , best accuracy :  0.8639713204540929\n",
      "Val Accuracy after epoch 19: 0.8668\n",
      "best epoch at :  18 , best accuracy :  0.866759609639514\n",
      "Val Accuracy after epoch 20: 0.8670\n",
      "best epoch at :  19 , best accuracy :  0.8669587731527584\n",
      "Val Accuracy after epoch 21: 0.8688\n",
      "best epoch at :  20 , best accuracy :  0.8687512447719578\n",
      "Val Accuracy after epoch 22: 0.8719\n",
      "best epoch at :  21 , best accuracy :  0.8719378609838677\n",
      "Val Accuracy after epoch 23: 0.8733\n",
      "best epoch at :  22 , best accuracy :  0.8733320055765784\n",
      "Val Accuracy after epoch 24: 0.8737\n",
      "best epoch at :  23 , best accuracy :  0.8737303326030671\n",
      "Val Accuracy after epoch 25: 0.8743\n",
      "best epoch at :  24 , best accuracy :  0.8743278231428002\n",
      "Val Accuracy after epoch 26: 0.8741\n",
      "best epoch at :  24 , best accuracy :  0.8743278231428002\n",
      "Val Accuracy after epoch 27: 0.8747\n",
      "best epoch at :  26 , best accuracy :  0.874726150169289\n",
      "Val Accuracy after epoch 28: 0.8749\n",
      "best epoch at :  27 , best accuracy :  0.8749253136825333\n",
      "Val Accuracy after epoch 29: 0.8749\n",
      "best epoch at :  27 , best accuracy :  0.8749253136825333\n",
      "Val Accuracy after epoch 30: 0.8749\n",
      "best epoch at :  27 , best accuracy :  0.8749253136825333\n",
      "Val Accuracy after epoch 31: 0.8747\n",
      "best epoch at :  27 , best accuracy :  0.8749253136825333\n",
      "Val Accuracy after epoch 32: 0.8751\n",
      "best epoch at :  31 , best accuracy :  0.8751244771957777\n",
      "Val Accuracy after epoch 33: 0.8747\n",
      "best epoch at :  31 , best accuracy :  0.8751244771957777\n",
      "Val Accuracy after epoch 34: 0.8743\n",
      "best epoch at :  31 , best accuracy :  0.8751244771957777\n",
      "Val Accuracy after epoch 35: 0.8749\n",
      "best epoch at :  31 , best accuracy :  0.8751244771957777\n",
      "Val Accuracy after epoch 36: 0.8753\n",
      "best epoch at :  35 , best accuracy :  0.8753236407090221\n",
      "Val Accuracy after epoch 37: 0.8765\n",
      "best epoch at :  36 , best accuracy :  0.8765186217884884\n",
      "Val Accuracy after epoch 38: 0.8759\n",
      "best epoch at :  36 , best accuracy :  0.8765186217884884\n",
      "Val Accuracy after epoch 39: 0.8765\n",
      "best epoch at :  36 , best accuracy :  0.8765186217884884\n",
      "Val Accuracy after epoch 40: 0.8761\n",
      "best epoch at :  36 , best accuracy :  0.8765186217884884\n",
      "Val Accuracy after epoch 41: 0.8763\n",
      "best epoch at :  36 , best accuracy :  0.8765186217884884\n",
      "Val Accuracy after epoch 42: 0.8763\n",
      "best epoch at :  36 , best accuracy :  0.8765186217884884\n",
      "Val Accuracy after epoch 43: 0.8769\n",
      "best epoch at :  42 , best accuracy :  0.8769169488149771\n",
      "Val Accuracy after epoch 44: 0.8769\n",
      "best epoch at :  42 , best accuracy :  0.8769169488149771\n",
      "Val Accuracy after epoch 45: 0.8775\n",
      "best epoch at :  44 , best accuracy :  0.8775144393547102\n",
      "Val Accuracy after epoch 46: 0.8769\n",
      "best epoch at :  44 , best accuracy :  0.8775144393547102\n",
      "Val Accuracy after epoch 47: 0.8769\n",
      "best epoch at :  44 , best accuracy :  0.8775144393547102\n",
      "Val Accuracy after epoch 48: 0.8769\n",
      "best epoch at :  44 , best accuracy :  0.8775144393547102\n",
      "Val Accuracy after epoch 49: 0.8773\n",
      "best epoch at :  44 , best accuracy :  0.8775144393547102\n",
      "Val Accuracy after epoch 50: 0.8771\n",
      "best epoch at :  44 , best accuracy :  0.8775144393547102\n",
      "Val Accuracy after epoch 51: 0.8777\n",
      "best epoch at :  50 , best accuracy :  0.8777136028679546\n",
      "Val Accuracy after epoch 52: 0.8763\n",
      "best epoch at :  50 , best accuracy :  0.8777136028679546\n",
      "Val Accuracy after epoch 53: 0.8779\n",
      "best epoch at :  52 , best accuracy :  0.877912766381199\n",
      "Val Accuracy after epoch 54: 0.8755\n",
      "best epoch at :  52 , best accuracy :  0.877912766381199\n",
      "Val Accuracy after epoch 55: 0.8767\n",
      "best epoch at :  52 , best accuracy :  0.877912766381199\n",
      "Val Accuracy after epoch 56: 0.8767\n",
      "best epoch at :  52 , best accuracy :  0.877912766381199\n",
      "Val Accuracy after epoch 57: 0.8763\n",
      "best epoch at :  52 , best accuracy :  0.877912766381199\n",
      "Val Accuracy after epoch 58: 0.8769\n",
      "best epoch at :  52 , best accuracy :  0.877912766381199\n",
      "Val Accuracy after epoch 59: 0.8767\n",
      "best epoch at :  52 , best accuracy :  0.877912766381199\n",
      "Val Accuracy after epoch 60: 0.8763\n",
      "best epoch at :  52 , best accuracy :  0.877912766381199\n",
      "Val Accuracy after epoch 61: 0.8765\n",
      "best epoch at :  52 , best accuracy :  0.877912766381199\n",
      "Val Accuracy after epoch 62: 0.8767\n",
      "best epoch at :  52 , best accuracy :  0.877912766381199\n",
      "Val Accuracy after epoch 63: 0.8769\n",
      "best epoch at :  52 , best accuracy :  0.877912766381199\n",
      "Val Accuracy after epoch 64: 0.8777\n",
      "best epoch at :  52 , best accuracy :  0.877912766381199\n",
      "Val Accuracy after epoch 65: 0.8773\n",
      "best epoch at :  52 , best accuracy :  0.877912766381199\n",
      "Val Accuracy after epoch 66: 0.8771\n",
      "best epoch at :  52 , best accuracy :  0.877912766381199\n",
      "Val Accuracy after epoch 67: 0.8769\n",
      "best epoch at :  52 , best accuracy :  0.877912766381199\n",
      "Val Accuracy after epoch 68: 0.8769\n",
      "best epoch at :  52 , best accuracy :  0.877912766381199\n",
      "Val Accuracy after epoch 69: 0.8763\n",
      "best epoch at :  52 , best accuracy :  0.877912766381199\n",
      "Val Accuracy after epoch 70: 0.8777\n",
      "best epoch at :  52 , best accuracy :  0.877912766381199\n",
      "Val Accuracy after epoch 71: 0.8769\n",
      "best epoch at :  52 , best accuracy :  0.877912766381199\n",
      "Val Accuracy after epoch 72: 0.8765\n",
      "best epoch at :  52 , best accuracy :  0.877912766381199\n",
      "Val Accuracy after epoch 73: 0.8769\n",
      "best epoch at :  52 , best accuracy :  0.877912766381199\n",
      "Val Accuracy after epoch 74: 0.8777\n",
      "best epoch at :  52 , best accuracy :  0.877912766381199\n",
      "Val Accuracy after epoch 75: 0.8775\n",
      "best epoch at :  52 , best accuracy :  0.877912766381199\n",
      "Val Accuracy after epoch 76: 0.8773\n",
      "best epoch at :  52 , best accuracy :  0.877912766381199\n",
      "Val Accuracy after epoch 77: 0.8777\n",
      "best epoch at :  52 , best accuracy :  0.877912766381199\n",
      "Val Accuracy after epoch 78: 0.8781\n",
      "best epoch at :  77 , best accuracy :  0.8781119298944433\n",
      "Val Accuracy after epoch 79: 0.8771\n",
      "best epoch at :  77 , best accuracy :  0.8781119298944433\n",
      "Val Accuracy after epoch 80: 0.8775\n",
      "best epoch at :  77 , best accuracy :  0.8781119298944433\n",
      "Val Accuracy after epoch 81: 0.8781\n",
      "best epoch at :  77 , best accuracy :  0.8781119298944433\n",
      "Val Accuracy after epoch 82: 0.8779\n",
      "best epoch at :  77 , best accuracy :  0.8781119298944433\n",
      "Val Accuracy after epoch 83: 0.8787\n",
      "best epoch at :  82 , best accuracy :  0.8787094204341764\n",
      "Val Accuracy after epoch 84: 0.8783\n",
      "best epoch at :  82 , best accuracy :  0.8787094204341764\n",
      "Val Accuracy after epoch 85: 0.8781\n",
      "best epoch at :  82 , best accuracy :  0.8787094204341764\n",
      "Val Accuracy after epoch 86: 0.8785\n",
      "best epoch at :  82 , best accuracy :  0.8787094204341764\n",
      "Val Accuracy after epoch 87: 0.8779\n",
      "best epoch at :  82 , best accuracy :  0.8787094204341764\n",
      "Val Accuracy after epoch 88: 0.8777\n",
      "best epoch at :  82 , best accuracy :  0.8787094204341764\n",
      "Val Accuracy after epoch 89: 0.8791\n",
      "best epoch at :  88 , best accuracy :  0.8791077474606652\n",
      "Val Accuracy after epoch 90: 0.8777\n",
      "best epoch at :  88 , best accuracy :  0.8791077474606652\n",
      "Val Accuracy after epoch 91: 0.8791\n",
      "best epoch at :  88 , best accuracy :  0.8791077474606652\n",
      "Val Accuracy after epoch 92: 0.8787\n",
      "best epoch at :  88 , best accuracy :  0.8791077474606652\n",
      "Val Accuracy after epoch 93: 0.8787\n",
      "best epoch at :  88 , best accuracy :  0.8791077474606652\n",
      "Val Accuracy after epoch 94: 0.8779\n",
      "best epoch at :  88 , best accuracy :  0.8791077474606652\n",
      "Val Accuracy after epoch 95: 0.8779\n",
      "best epoch at :  88 , best accuracy :  0.8791077474606652\n",
      "Val Accuracy after epoch 96: 0.8783\n",
      "best epoch at :  88 , best accuracy :  0.8791077474606652\n",
      "Val Accuracy after epoch 97: 0.8783\n",
      "best epoch at :  88 , best accuracy :  0.8791077474606652\n",
      "Val Accuracy after epoch 98: 0.8775\n",
      "best epoch at :  88 , best accuracy :  0.8791077474606652\n",
      "Val Accuracy after epoch 99: 0.8771\n",
      "best epoch at :  88 , best accuracy :  0.8791077474606652\n",
      "Val Accuracy after epoch 100: 0.8773\n",
      "best epoch at :  88 , best accuracy :  0.8791077474606652\n",
      "Val Accuracy after epoch 101: 0.8779\n",
      "best epoch at :  88 , best accuracy :  0.8791077474606652\n",
      "Val Accuracy after epoch 102: 0.8775\n",
      "best epoch at :  88 , best accuracy :  0.8791077474606652\n",
      "Val Accuracy after epoch 103: 0.8779\n",
      "best epoch at :  88 , best accuracy :  0.8791077474606652\n",
      "Val Accuracy after epoch 104: 0.8775\n",
      "best epoch at :  88 , best accuracy :  0.8791077474606652\n",
      "Val Accuracy after epoch 105: 0.8789\n",
      "best epoch at :  88 , best accuracy :  0.8791077474606652\n",
      "Val Accuracy after epoch 106: 0.8789\n",
      "best epoch at :  88 , best accuracy :  0.8791077474606652\n",
      "Val Accuracy after epoch 107: 0.8791\n",
      "best epoch at :  88 , best accuracy :  0.8791077474606652\n",
      "Val Accuracy after epoch 108: 0.8787\n",
      "best epoch at :  88 , best accuracy :  0.8791077474606652\n",
      "Val Accuracy after epoch 109: 0.8791\n",
      "best epoch at :  88 , best accuracy :  0.8791077474606652\n",
      "Val Accuracy after epoch 110: 0.8783\n",
      "best epoch at :  88 , best accuracy :  0.8791077474606652\n",
      "Val Accuracy after epoch 111: 0.8793\n",
      "best epoch at :  110 , best accuracy :  0.8793069109739096\n",
      "Val Accuracy after epoch 112: 0.8785\n",
      "best epoch at :  110 , best accuracy :  0.8793069109739096\n",
      "Val Accuracy after epoch 113: 0.8785\n",
      "best epoch at :  110 , best accuracy :  0.8793069109739096\n",
      "Val Accuracy after epoch 114: 0.8785\n",
      "best epoch at :  110 , best accuracy :  0.8793069109739096\n",
      "Val Accuracy after epoch 115: 0.8787\n",
      "best epoch at :  110 , best accuracy :  0.8793069109739096\n",
      "Val Accuracy after epoch 116: 0.8783\n",
      "best epoch at :  110 , best accuracy :  0.8793069109739096\n",
      "Val Accuracy after epoch 117: 0.8783\n",
      "best epoch at :  110 , best accuracy :  0.8793069109739096\n",
      "Val Accuracy after epoch 118: 0.8777\n",
      "best epoch at :  110 , best accuracy :  0.8793069109739096\n",
      "Val Accuracy after epoch 119: 0.8783\n",
      "best epoch at :  110 , best accuracy :  0.8793069109739096\n",
      "Val Accuracy after epoch 120: 0.8779\n",
      "best epoch at :  110 , best accuracy :  0.8793069109739096\n",
      "Val Accuracy after epoch 121: 0.8781\n",
      "best epoch at :  110 , best accuracy :  0.8793069109739096\n",
      "Val Accuracy after epoch 122: 0.8781\n",
      "best epoch at :  110 , best accuracy :  0.8793069109739096\n",
      "Val Accuracy after epoch 123: 0.8781\n",
      "best epoch at :  110 , best accuracy :  0.8793069109739096\n",
      "Val Accuracy after epoch 124: 0.8785\n",
      "best epoch at :  110 , best accuracy :  0.8793069109739096\n",
      "Val Accuracy after epoch 125: 0.8777\n",
      "best epoch at :  110 , best accuracy :  0.8793069109739096\n",
      "Val Accuracy after epoch 126: 0.8781\n",
      "best epoch at :  110 , best accuracy :  0.8793069109739096\n",
      "Val Accuracy after epoch 127: 0.8783\n",
      "best epoch at :  110 , best accuracy :  0.8793069109739096\n",
      "Val Accuracy after epoch 128: 0.8779\n",
      "best epoch at :  110 , best accuracy :  0.8793069109739096\n",
      "Val Accuracy after epoch 129: 0.8783\n",
      "best epoch at :  110 , best accuracy :  0.8793069109739096\n",
      "Val Accuracy after epoch 130: 0.8777\n",
      "best epoch at :  110 , best accuracy :  0.8793069109739096\n",
      "Val Accuracy after epoch 131: 0.8777\n",
      "best epoch at :  110 , best accuracy :  0.8793069109739096\n",
      "Val Accuracy after epoch 132: 0.8775\n",
      "best epoch at :  110 , best accuracy :  0.8793069109739096\n",
      "Val Accuracy after epoch 133: 0.8777\n",
      "best epoch at :  110 , best accuracy :  0.8793069109739096\n",
      "Val Accuracy after epoch 134: 0.8777\n",
      "best epoch at :  110 , best accuracy :  0.8793069109739096\n",
      "Val Accuracy after epoch 135: 0.8771\n",
      "best epoch at :  110 , best accuracy :  0.8793069109739096\n",
      "Val Accuracy after epoch 136: 0.8773\n",
      "best epoch at :  110 , best accuracy :  0.8793069109739096\n",
      "Val Accuracy after epoch 137: 0.8777\n",
      "best epoch at :  110 , best accuracy :  0.8793069109739096\n",
      "Val Accuracy after epoch 138: 0.8771\n",
      "best epoch at :  110 , best accuracy :  0.8793069109739096\n",
      "Val Accuracy after epoch 139: 0.8763\n",
      "best epoch at :  110 , best accuracy :  0.8793069109739096\n",
      "Val Accuracy after epoch 140: 0.8763\n",
      "best epoch at :  110 , best accuracy :  0.8793069109739096\n",
      "Val Accuracy after epoch 141: 0.8769\n",
      "best epoch at :  110 , best accuracy :  0.8793069109739096\n",
      "Val Accuracy after epoch 142: 0.8767\n",
      "best epoch at :  110 , best accuracy :  0.8793069109739096\n",
      "Val Accuracy after epoch 143: 0.8767\n",
      "best epoch at :  110 , best accuracy :  0.8793069109739096\n",
      "Val Accuracy after epoch 144: 0.8767\n",
      "best epoch at :  110 , best accuracy :  0.8793069109739096\n",
      "Val Accuracy after epoch 145: 0.8771\n",
      "best epoch at :  110 , best accuracy :  0.8793069109739096\n",
      "Val Accuracy after epoch 146: 0.8771\n",
      "best epoch at :  110 , best accuracy :  0.8793069109739096\n",
      "Val Accuracy after epoch 147: 0.8761\n",
      "best epoch at :  110 , best accuracy :  0.8793069109739096\n",
      "Val Accuracy after epoch 148: 0.8759\n",
      "best epoch at :  110 , best accuracy :  0.8793069109739096\n",
      "Val Accuracy after epoch 149: 0.8757\n",
      "best epoch at :  110 , best accuracy :  0.8793069109739096\n",
      "Val Accuracy after epoch 150: 0.8759\n",
      "best epoch at :  110 , best accuracy :  0.8793069109739096\n",
      "Val Accuracy after epoch 151: 0.8757\n",
      "best epoch at :  110 , best accuracy :  0.8793069109739096\n",
      "Val Accuracy after epoch 152: 0.8761\n",
      "best epoch at :  110 , best accuracy :  0.8793069109739096\n",
      "Val Accuracy after epoch 153: 0.8755\n",
      "best epoch at :  110 , best accuracy :  0.8793069109739096\n",
      "Val Accuracy after epoch 154: 0.8771\n",
      "best epoch at :  110 , best accuracy :  0.8793069109739096\n",
      "Val Accuracy after epoch 155: 0.8763\n",
      "best epoch at :  110 , best accuracy :  0.8793069109739096\n",
      "Val Accuracy after epoch 156: 0.8759\n",
      "best epoch at :  110 , best accuracy :  0.8793069109739096\n",
      "Val Accuracy after epoch 157: 0.8769\n",
      "best epoch at :  110 , best accuracy :  0.8793069109739096\n",
      "Val Accuracy after epoch 158: 0.8773\n",
      "best epoch at :  110 , best accuracy :  0.8793069109739096\n",
      "Val Accuracy after epoch 159: 0.8775\n",
      "best epoch at :  110 , best accuracy :  0.8793069109739096\n",
      "Val Accuracy after epoch 160: 0.8765\n",
      "best epoch at :  110 , best accuracy :  0.8793069109739096\n",
      "Val Accuracy after epoch 161: 0.8773\n",
      "best epoch at :  110 , best accuracy :  0.8793069109739096\n",
      "Val Accuracy after epoch 162: 0.8763\n",
      "best epoch at :  110 , best accuracy :  0.8793069109739096\n",
      "Val Accuracy after epoch 163: 0.8771\n",
      "best epoch at :  110 , best accuracy :  0.8793069109739096\n",
      "Val Accuracy after epoch 164: 0.8767\n",
      "best epoch at :  110 , best accuracy :  0.8793069109739096\n",
      "Val Accuracy after epoch 165: 0.8765\n",
      "best epoch at :  110 , best accuracy :  0.8793069109739096\n",
      "Val Accuracy after epoch 166: 0.8773\n",
      "best epoch at :  110 , best accuracy :  0.8793069109739096\n",
      "Val Accuracy after epoch 167: 0.8771\n",
      "best epoch at :  110 , best accuracy :  0.8793069109739096\n",
      "Val Accuracy after epoch 168: 0.8769\n",
      "best epoch at :  110 , best accuracy :  0.8793069109739096\n",
      "Val Accuracy after epoch 169: 0.8775\n",
      "best epoch at :  110 , best accuracy :  0.8793069109739096\n",
      "Val Accuracy after epoch 170: 0.8763\n",
      "best epoch at :  110 , best accuracy :  0.8793069109739096\n",
      "Val Accuracy after epoch 171: 0.8771\n",
      "best epoch at :  110 , best accuracy :  0.8793069109739096\n",
      "Val Accuracy after epoch 172: 0.8769\n",
      "best epoch at :  110 , best accuracy :  0.8793069109739096\n",
      "Val Accuracy after epoch 173: 0.8769\n",
      "best epoch at :  110 , best accuracy :  0.8793069109739096\n",
      "Val Accuracy after epoch 174: 0.8771\n",
      "best epoch at :  110 , best accuracy :  0.8793069109739096\n",
      "Val Accuracy after epoch 175: 0.8771\n",
      "best epoch at :  110 , best accuracy :  0.8793069109739096\n",
      "Val Accuracy after epoch 176: 0.8771\n",
      "best epoch at :  110 , best accuracy :  0.8793069109739096\n",
      "Val Accuracy after epoch 177: 0.8771\n",
      "best epoch at :  110 , best accuracy :  0.8793069109739096\n",
      "Val Accuracy after epoch 178: 0.8775\n",
      "best epoch at :  110 , best accuracy :  0.8793069109739096\n",
      "Val Accuracy after epoch 179: 0.8773\n",
      "best epoch at :  110 , best accuracy :  0.8793069109739096\n",
      "Val Accuracy after epoch 180: 0.8765\n",
      "best epoch at :  110 , best accuracy :  0.8793069109739096\n",
      "Val Accuracy after epoch 181: 0.8775\n",
      "best epoch at :  110 , best accuracy :  0.8793069109739096\n",
      "Val Accuracy after epoch 182: 0.8773\n",
      "best epoch at :  110 , best accuracy :  0.8793069109739096\n",
      "Val Accuracy after epoch 183: 0.8771\n",
      "best epoch at :  110 , best accuracy :  0.8793069109739096\n",
      "Val Accuracy after epoch 184: 0.8759\n",
      "best epoch at :  110 , best accuracy :  0.8793069109739096\n",
      "Val Accuracy after epoch 185: 0.8767\n",
      "best epoch at :  110 , best accuracy :  0.8793069109739096\n",
      "Val Accuracy after epoch 186: 0.8765\n",
      "best epoch at :  110 , best accuracy :  0.8793069109739096\n",
      "Val Accuracy after epoch 187: 0.8773\n",
      "best epoch at :  110 , best accuracy :  0.8793069109739096\n",
      "Val Accuracy after epoch 188: 0.8773\n",
      "best epoch at :  110 , best accuracy :  0.8793069109739096\n",
      "Val Accuracy after epoch 189: 0.8769\n",
      "best epoch at :  110 , best accuracy :  0.8793069109739096\n",
      "Val Accuracy after epoch 190: 0.8763\n",
      "best epoch at :  110 , best accuracy :  0.8793069109739096\n",
      "Val Accuracy after epoch 191: 0.8761\n",
      "best epoch at :  110 , best accuracy :  0.8793069109739096\n",
      "Val Accuracy after epoch 192: 0.8765\n",
      "best epoch at :  110 , best accuracy :  0.8793069109739096\n",
      "Val Accuracy after epoch 193: 0.8767\n",
      "best epoch at :  110 , best accuracy :  0.8793069109739096\n",
      "Val Accuracy after epoch 194: 0.8763\n",
      "best epoch at :  110 , best accuracy :  0.8793069109739096\n",
      "Val Accuracy after epoch 195: 0.8767\n",
      "best epoch at :  110 , best accuracy :  0.8793069109739096\n",
      "Val Accuracy after epoch 196: 0.8767\n",
      "best epoch at :  110 , best accuracy :  0.8793069109739096\n",
      "Val Accuracy after epoch 197: 0.8769\n",
      "best epoch at :  110 , best accuracy :  0.8793069109739096\n",
      "Val Accuracy after epoch 198: 0.8767\n",
      "best epoch at :  110 , best accuracy :  0.8793069109739096\n",
      "Val Accuracy after epoch 199: 0.8771\n",
      "best epoch at :  110 , best accuracy :  0.8793069109739096\n",
      "Val Accuracy after epoch 200: 0.8765\n",
      "best epoch at :  110 , best accuracy :  0.8793069109739096\n",
      "Val Accuracy after epoch 201: 0.8757\n",
      "best epoch at :  110 , best accuracy :  0.8793069109739096\n",
      "Val Accuracy after epoch 202: 0.8759\n",
      "best epoch at :  110 , best accuracy :  0.8793069109739096\n",
      "Val Accuracy after epoch 203: 0.8759\n",
      "best epoch at :  110 , best accuracy :  0.8793069109739096\n",
      "Val Accuracy after epoch 204: 0.8759\n",
      "best epoch at :  110 , best accuracy :  0.8793069109739096\n",
      "Val Accuracy after epoch 205: 0.8761\n",
      "best epoch at :  110 , best accuracy :  0.8793069109739096\n",
      "Val Accuracy after epoch 206: 0.8763\n",
      "best epoch at :  110 , best accuracy :  0.8793069109739096\n",
      "Val Accuracy after epoch 207: 0.8753\n",
      "best epoch at :  110 , best accuracy :  0.8793069109739096\n",
      "Val Accuracy after epoch 208: 0.8757\n",
      "best epoch at :  110 , best accuracy :  0.8793069109739096\n",
      "Val Accuracy after epoch 209: 0.8761\n",
      "best epoch at :  110 , best accuracy :  0.8793069109739096\n",
      "Val Accuracy after epoch 210: 0.8757\n",
      "best epoch at :  110 , best accuracy :  0.8793069109739096\n",
      "Val Accuracy after epoch 211: 0.8755\n",
      "best epoch at :  110 , best accuracy :  0.8793069109739096\n",
      "Val Accuracy after epoch 212: 0.8759\n",
      "best epoch at :  110 , best accuracy :  0.8793069109739096\n",
      "Val Accuracy after epoch 213: 0.8757\n",
      "best epoch at :  110 , best accuracy :  0.8793069109739096\n",
      "Val Accuracy after epoch 214: 0.8753\n",
      "best epoch at :  110 , best accuracy :  0.8793069109739096\n",
      "Val Accuracy after epoch 215: 0.8755\n",
      "best epoch at :  110 , best accuracy :  0.8793069109739096\n",
      "Val Accuracy after epoch 216: 0.8755\n",
      "best epoch at :  110 , best accuracy :  0.8793069109739096\n",
      "Val Accuracy after epoch 217: 0.8759\n",
      "best epoch at :  110 , best accuracy :  0.8793069109739096\n",
      "Val Accuracy after epoch 218: 0.8755\n",
      "best epoch at :  110 , best accuracy :  0.8793069109739096\n",
      "Val Accuracy after epoch 219: 0.8769\n",
      "best epoch at :  110 , best accuracy :  0.8793069109739096\n",
      "Val Accuracy after epoch 220: 0.8765\n",
      "best epoch at :  110 , best accuracy :  0.8793069109739096\n",
      "Val Accuracy after epoch 221: 0.8765\n",
      "best epoch at :  110 , best accuracy :  0.8793069109739096\n",
      "Val Accuracy after epoch 222: 0.8761\n",
      "best epoch at :  110 , best accuracy :  0.8793069109739096\n",
      "Val Accuracy after epoch 223: 0.8761\n",
      "best epoch at :  110 , best accuracy :  0.8793069109739096\n",
      "Val Accuracy after epoch 224: 0.8759\n",
      "best epoch at :  110 , best accuracy :  0.8793069109739096\n",
      "Val Accuracy after epoch 225: 0.8761\n",
      "best epoch at :  110 , best accuracy :  0.8793069109739096\n",
      "Val Accuracy after epoch 226: 0.8761\n",
      "best epoch at :  110 , best accuracy :  0.8793069109739096\n",
      "Val Accuracy after epoch 227: 0.8757\n",
      "best epoch at :  110 , best accuracy :  0.8793069109739096\n",
      "Val Accuracy after epoch 228: 0.8759\n",
      "best epoch at :  110 , best accuracy :  0.8793069109739096\n",
      "Val Accuracy after epoch 229: 0.8761\n",
      "best epoch at :  110 , best accuracy :  0.8793069109739096\n",
      "Val Accuracy after epoch 230: 0.8775\n",
      "best epoch at :  110 , best accuracy :  0.8793069109739096\n",
      "Val Accuracy after epoch 231: 0.8769\n",
      "best epoch at :  110 , best accuracy :  0.8793069109739096\n",
      "Val Accuracy after epoch 232: 0.8771\n",
      "best epoch at :  110 , best accuracy :  0.8793069109739096\n",
      "Val Accuracy after epoch 233: 0.8777\n",
      "best epoch at :  110 , best accuracy :  0.8793069109739096\n",
      "Val Accuracy after epoch 234: 0.8771\n",
      "best epoch at :  110 , best accuracy :  0.8793069109739096\n",
      "Val Accuracy after epoch 235: 0.8773\n",
      "best epoch at :  110 , best accuracy :  0.8793069109739096\n",
      "Val Accuracy after epoch 236: 0.8765\n",
      "best epoch at :  110 , best accuracy :  0.8793069109739096\n",
      "Val Accuracy after epoch 237: 0.8765\n",
      "best epoch at :  110 , best accuracy :  0.8793069109739096\n",
      "Val Accuracy after epoch 238: 0.8771\n",
      "best epoch at :  110 , best accuracy :  0.8793069109739096\n",
      "Val Accuracy after epoch 239: 0.8779\n",
      "best epoch at :  110 , best accuracy :  0.8793069109739096\n",
      "Val Accuracy after epoch 240: 0.8777\n",
      "best epoch at :  110 , best accuracy :  0.8793069109739096\n",
      "Val Accuracy after epoch 241: 0.8773\n",
      "best epoch at :  110 , best accuracy :  0.8793069109739096\n",
      "Val Accuracy after epoch 242: 0.8775\n",
      "best epoch at :  110 , best accuracy :  0.8793069109739096\n",
      "Val Accuracy after epoch 243: 0.8775\n",
      "best epoch at :  110 , best accuracy :  0.8793069109739096\n",
      "Val Accuracy after epoch 244: 0.8771\n",
      "best epoch at :  110 , best accuracy :  0.8793069109739096\n",
      "Val Accuracy after epoch 245: 0.8771\n",
      "best epoch at :  110 , best accuracy :  0.8793069109739096\n",
      "Val Accuracy after epoch 246: 0.8769\n",
      "best epoch at :  110 , best accuracy :  0.8793069109739096\n",
      "Val Accuracy after epoch 247: 0.8773\n",
      "best epoch at :  110 , best accuracy :  0.8793069109739096\n",
      "Val Accuracy after epoch 248: 0.8757\n",
      "best epoch at :  110 , best accuracy :  0.8793069109739096\n",
      "Val Accuracy after epoch 249: 0.8771\n",
      "best epoch at :  110 , best accuracy :  0.8793069109739096\n",
      "Val Accuracy after epoch 250: 0.8763\n",
      "best epoch at :  110 , best accuracy :  0.8793069109739096\n",
      "Val Accuracy after epoch 251: 0.8765\n",
      "best epoch at :  110 , best accuracy :  0.8793069109739096\n",
      "Val Accuracy after epoch 252: 0.8763\n",
      "best epoch at :  110 , best accuracy :  0.8793069109739096\n",
      "Val Accuracy after epoch 253: 0.8755\n",
      "best epoch at :  110 , best accuracy :  0.8793069109739096\n",
      "Val Accuracy after epoch 254: 0.8757\n",
      "best epoch at :  110 , best accuracy :  0.8793069109739096\n",
      "Val Accuracy after epoch 255: 0.8751\n",
      "best epoch at :  110 , best accuracy :  0.8793069109739096\n",
      "Val Accuracy after epoch 256: 0.8751\n",
      "best epoch at :  110 , best accuracy :  0.8793069109739096\n",
      "Val Accuracy after epoch 257: 0.8749\n",
      "best epoch at :  110 , best accuracy :  0.8793069109739096\n",
      "Val Accuracy after epoch 258: 0.8745\n",
      "best epoch at :  110 , best accuracy :  0.8793069109739096\n",
      "Val Accuracy after epoch 259: 0.8757\n",
      "best epoch at :  110 , best accuracy :  0.8793069109739096\n",
      "Val Accuracy after epoch 260: 0.8753\n",
      "best epoch at :  110 , best accuracy :  0.8793069109739096\n",
      "Val Accuracy after epoch 261: 0.8751\n",
      "best epoch at :  110 , best accuracy :  0.8793069109739096\n",
      "Val Accuracy after epoch 262: 0.8757\n",
      "best epoch at :  110 , best accuracy :  0.8793069109739096\n",
      "Val Accuracy after epoch 263: 0.8755\n",
      "best epoch at :  110 , best accuracy :  0.8793069109739096\n",
      "Val Accuracy after epoch 264: 0.8755\n",
      "best epoch at :  110 , best accuracy :  0.8793069109739096\n",
      "Val Accuracy after epoch 265: 0.8747\n",
      "best epoch at :  110 , best accuracy :  0.8793069109739096\n",
      "Val Accuracy after epoch 266: 0.8749\n",
      "best epoch at :  110 , best accuracy :  0.8793069109739096\n",
      "Val Accuracy after epoch 267: 0.8747\n",
      "best epoch at :  110 , best accuracy :  0.8793069109739096\n",
      "Val Accuracy after epoch 268: 0.8751\n",
      "best epoch at :  110 , best accuracy :  0.8793069109739096\n",
      "Val Accuracy after epoch 269: 0.8753\n",
      "best epoch at :  110 , best accuracy :  0.8793069109739096\n",
      "Val Accuracy after epoch 270: 0.8745\n",
      "best epoch at :  110 , best accuracy :  0.8793069109739096\n",
      "Val Accuracy after epoch 271: 0.8747\n",
      "best epoch at :  110 , best accuracy :  0.8793069109739096\n",
      "Val Accuracy after epoch 272: 0.8745\n",
      "best epoch at :  110 , best accuracy :  0.8793069109739096\n",
      "Val Accuracy after epoch 273: 0.8747\n",
      "best epoch at :  110 , best accuracy :  0.8793069109739096\n",
      "Val Accuracy after epoch 274: 0.8741\n",
      "best epoch at :  110 , best accuracy :  0.8793069109739096\n",
      "Val Accuracy after epoch 275: 0.8747\n",
      "best epoch at :  110 , best accuracy :  0.8793069109739096\n",
      "Val Accuracy after epoch 276: 0.8745\n",
      "best epoch at :  110 , best accuracy :  0.8793069109739096\n",
      "Val Accuracy after epoch 277: 0.8747\n",
      "best epoch at :  110 , best accuracy :  0.8793069109739096\n",
      "Val Accuracy after epoch 278: 0.8749\n",
      "best epoch at :  110 , best accuracy :  0.8793069109739096\n",
      "Val Accuracy after epoch 279: 0.8747\n",
      "best epoch at :  110 , best accuracy :  0.8793069109739096\n",
      "Val Accuracy after epoch 280: 0.8753\n",
      "best epoch at :  110 , best accuracy :  0.8793069109739096\n",
      "Val Accuracy after epoch 281: 0.8751\n",
      "best epoch at :  110 , best accuracy :  0.8793069109739096\n",
      "Val Accuracy after epoch 282: 0.8753\n",
      "best epoch at :  110 , best accuracy :  0.8793069109739096\n",
      "Val Accuracy after epoch 283: 0.8753\n",
      "best epoch at :  110 , best accuracy :  0.8793069109739096\n",
      "Val Accuracy after epoch 284: 0.8759\n",
      "best epoch at :  110 , best accuracy :  0.8793069109739096\n",
      "Val Accuracy after epoch 285: 0.8753\n",
      "best epoch at :  110 , best accuracy :  0.8793069109739096\n",
      "Val Accuracy after epoch 286: 0.8755\n",
      "best epoch at :  110 , best accuracy :  0.8793069109739096\n",
      "Val Accuracy after epoch 287: 0.8759\n",
      "best epoch at :  110 , best accuracy :  0.8793069109739096\n",
      "Val Accuracy after epoch 288: 0.8753\n",
      "best epoch at :  110 , best accuracy :  0.8793069109739096\n",
      "Val Accuracy after epoch 289: 0.8759\n",
      "best epoch at :  110 , best accuracy :  0.8793069109739096\n",
      "Val Accuracy after epoch 290: 0.8753\n",
      "best epoch at :  110 , best accuracy :  0.8793069109739096\n",
      "Val Accuracy after epoch 291: 0.8769\n",
      "best epoch at :  110 , best accuracy :  0.8793069109739096\n",
      "Val Accuracy after epoch 292: 0.8765\n",
      "best epoch at :  110 , best accuracy :  0.8793069109739096\n",
      "Val Accuracy after epoch 293: 0.8753\n",
      "best epoch at :  110 , best accuracy :  0.8793069109739096\n",
      "Val Accuracy after epoch 294: 0.8751\n",
      "best epoch at :  110 , best accuracy :  0.8793069109739096\n",
      "Val Accuracy after epoch 295: 0.8753\n",
      "best epoch at :  110 , best accuracy :  0.8793069109739096\n",
      "Val Accuracy after epoch 296: 0.8745\n",
      "best epoch at :  110 , best accuracy :  0.8793069109739096\n",
      "Val Accuracy after epoch 297: 0.8759\n",
      "best epoch at :  110 , best accuracy :  0.8793069109739096\n",
      "Val Accuracy after epoch 298: 0.8745\n",
      "best epoch at :  110 , best accuracy :  0.8793069109739096\n",
      "Val Accuracy after epoch 299: 0.8753\n",
      "best epoch at :  110 , best accuracy :  0.8793069109739096\n",
      "Val Accuracy after epoch 300: 0.8761\n",
      "best epoch at :  110 , best accuracy :  0.8793069109739096\n"
     ]
    }
   ],
   "source": [
    "num_epochs = 300\n",
    "n = 1  # 每n个epoch进行一次测试\n",
    "best_accuracy = 0.0\n",
    "best_epoch = 0\n",
    "\n",
    "for epoch in range(num_epochs):\n",
    "    model.train()\n",
    "    running_loss = 0.0\n",
    "    for inputs, labels in train_loader:\n",
    "        inputs, labels = inputs.to(device), labels.to(device).view(-1, 1)\n",
    "        outputs = model(inputs)\n",
    "        loss = criterion(outputs, labels)\n",
    "\n",
    "        optimizer.zero_grad()\n",
    "        loss.backward()\n",
    "        optimizer.step()\n",
    "\n",
    "        running_loss += loss.item() * inputs.size(0)\n",
    "\n",
    "    epoch_loss = running_loss / len(train_loader.dataset)\n",
    "    # print(f'Epoch [{epoch + 1}/{num_epochs}], Loss: {epoch_loss:.4f}')\n",
    "\n",
    "    if (epoch + 1) % n == 0:\n",
    "        model.eval()\n",
    "        correct = 0\n",
    "        total = 0\n",
    "        with torch.no_grad():\n",
    "            for inputs, labels in val_loader:\n",
    "                inputs, labels = inputs.to(device), labels.to(device).view(-1, 1)\n",
    "                outputs = model(inputs)\n",
    "                predicted = (outputs > 0.5).float()\n",
    "                total += labels.size(0)\n",
    "                correct += (predicted == labels).sum().item()\n",
    "\n",
    "        accuracy = correct / total\n",
    "        print(f'Val Accuracy after epoch {epoch + 1}: {accuracy:.4f}')\n",
    "\n",
    "        # 保存最新模型权重\n",
    "        torch.save(model.state_dict(), 'results_of_nn/latest_model.pth')\n",
    "\n",
    "        # 保存最优模型权重\n",
    "        if accuracy > best_accuracy:\n",
    "            best_accuracy = accuracy\n",
    "            best_epoch = epoch\n",
    "            torch.save(model.state_dict(), 'results_of_nn/best_model.pth')\n",
    "        print(\"best epoch at : \", best_epoch, \", best accuracy : \", best_accuracy)\n",
    "\n",
    "        with open('results_of_nn/log.txt', 'a') as log_file:\n",
    "            log_file.write(f'Epoch {epoch + 1}: Test Accuracy: {accuracy:.4f}\\n')"
   ],
   "metadata": {
    "collapsed": false,
    "ExecuteTime": {
     "end_time": "2024-08-07T07:14:48.566514600Z",
     "start_time": "2024-08-07T07:11:42.837315600Z"
    }
   },
   "execution_count": 32
  },
  {
   "cell_type": "code",
   "outputs": [
    {
     "name": "stdout",
     "output_type": "stream",
     "text": [
      "Test Accuracy: 0.8765\n"
     ]
    }
   ],
   "source": [
    "# 在训练完成后，使用测试集进行测试\n",
    "model.eval()\n",
    "correct = 0\n",
    "total = 0\n",
    "with torch.no_grad():\n",
    "    for inputs, labels in test_loader:\n",
    "        inputs, labels = inputs.to(device), labels.to(device).view(-1, 1)\n",
    "        outputs = model(inputs)\n",
    "        predicted = (outputs > 0.5).float()\n",
    "        total += labels.size(0)\n",
    "        correct += (predicted == labels).sum().item()\n",
    "\n",
    "test_accuracy = correct / total\n",
    "print(f'Test Accuracy: {test_accuracy:.4f}')\n",
    "\n",
    "with open('results_of_nn/log.txt', 'a') as log_file:\n",
    "    log_file.write(f'Test Accuracy: {test_accuracy:.4f}\\n')"
   ],
   "metadata": {
    "collapsed": false,
    "ExecuteTime": {
     "end_time": "2024-08-07T07:15:16.560835500Z",
     "start_time": "2024-08-07T07:15:16.429805200Z"
    }
   },
   "execution_count": 34
  },
  {
   "cell_type": "markdown",
   "source": [
    "### 模型对比\n",
    "| 模型       | 最优参数下的准确率（%） |\n",
    "|:---------|:------------:|\n",
    "| 决策树      |    80.66     |\n",
    "| 随机森林     |    85.84     |\n",
    "| 逻辑斯蒂回归   |    87.89     | \n",
    "| 全连接神经网络  |    87.65     |"
   ],
   "metadata": {
    "collapsed": false
   }
  },
  {
   "cell_type": "markdown",
   "metadata": {},
   "source": [
    "## 步骤六：模型集成"
   ]
  },
  {
   "cell_type": "markdown",
   "source": [
    "综合上面的表格，我分别集成了逻辑斯蒂回归和神经网络两个版本的模型\n",
    "两个模型已经过集成，只需要替换最后的test.csv即可，test.csv里的是天猫评论语句，而不用人工分词以及转成tf-idf矩阵\n",
    "模型会先使用之前的大数据训练并保存模型权重和tf-idf到结果文件夹\n",
    "之后每次运行只要文件夹里有权重就不会再训练，而是直接对test.csv里的内容预测并打上预测标签，返回成新表"
   ],
   "metadata": {
    "collapsed": false
   }
  },
  {
   "cell_type": "markdown",
   "source": [
    "### Logistic 版本"
   ],
   "metadata": {
    "collapsed": false
   }
  },
  {
   "cell_type": "code",
   "execution_count": 40,
   "metadata": {
    "collapsed": false,
    "ExecuteTime": {
     "end_time": "2024-08-07T07:28:50.654939100Z",
     "start_time": "2024-08-07T07:28:50.571921200Z"
    }
   },
   "outputs": [],
   "source": [
    "## 所有需要导入的软件包\n",
    "\n",
    "import pandas as pd\n",
    "import jieba\n",
    "import re\n",
    "import os\n",
    "import joblib\n",
    "from sklearn.linear_model import LogisticRegression\n",
    "from sklearn.feature_extraction.text import CountVectorizer\n",
    "from sklearn.feature_extraction.text import TfidfTransformer\n",
    "from sklearn.metrics import accuracy_score\n",
    "from sklearn.model_selection import train_test_split"
   ]
  },
  {
   "cell_type": "code",
   "outputs": [],
   "source": [
    "## 辅助函数\n",
    "\n",
    "# 创建停用词列表\n",
    "def create_stop_words_list():\n",
    "    stop_word_path = os.path.join(os.path.join(os.getcwd(),\n",
    "                                               'stopwords'), 'baidu_stopwords.txt')  # 创建中文停用词表路径\n",
    "    zh_pattern = re.compile(u'[\\u4e00-\\u9fa5]+')  # 定义正则表达式：unicode字符4e00到9fa5 -> 常用的汉字\n",
    "    stop_word = pd.read_csv(stop_word_path, header=None)  # 读常用词 无列名\n",
    "    stop_word = stop_word.values.reshape(-1)  # 读取dataframe并转换成数组 横向铺平\n",
    "    stop_word = [stop for stop in stop_word]  # 转列表\n",
    "    stop_word.append(' ')  # 列表加入空格？ 空格也需要过滤\n",
    "    return stop_word, zh_pattern\n",
    "\n",
    "\n",
    "# 分词+过滤\n",
    "def extract_words(word, zh_pattern, stop_word):\n",
    "    word = str(word).strip()  # 去除首尾空格\n",
    "    zh_word = re.findall(zh_pattern, word)  # 找到word里符合正则表达式要求（即汉字）的部分\n",
    "    lst = jieba.cut(''.join(zh_word), cut_all=False)\n",
    "    # ''.join(zh_word)把所有汉字接一块，jieba.cut进行中文分词，分词返回成list\n",
    "    final_word = [char for char in lst if char not in stop_word]  # 过滤停用词\n",
    "    return ' '.join(final_word)  # 把过滤停用词的，分词的，中文的拼一块输出,中间穿插空格\n",
    "\n",
    "\n",
    "# 转换成特征向量\n",
    "def tf_idf_(content):\n",
    "    counter = CountVectorizer(max_df=0.8, min_df=0.001)\n",
    "    counts = counter.fit_transform(content)\n",
    "\n",
    "    tfidfer = TfidfTransformer()\n",
    "    tfidf = tfidfer.fit_transform(counts)\n",
    "    data_review_array = tfidf.toarray()\n",
    "    return data_review_array, counter, tfidfer"
   ],
   "metadata": {
    "collapsed": false,
    "ExecuteTime": {
     "end_time": "2024-08-07T07:29:11.928380100Z",
     "start_time": "2024-08-07T07:29:11.889371600Z"
    }
   },
   "execution_count": 45
  },
  {
   "cell_type": "code",
   "outputs": [],
   "source": [
    "# 训练逻辑回归模型，将模型和tf-idf的对象保存为序列化字节流\n",
    "# 保存模型是为了直接使用以免二次训练\n",
    "# 保存tf-idf是为了保留训练时词库的特征\n",
    "\n",
    "# 训练模型\n",
    "def train_model(save_dir):\n",
    "    stop_word, zh_pattern = create_stop_words_list()\n",
    "    data = pd.read_csv('online_shopping_10_cats.csv', header=0)\n",
    "    data_e = data['review'].apply(lambda x: extract_words(x, zh_pattern, stop_word))\n",
    "    data_extract = pd.DataFrame(data_e.values, columns=['content'])\n",
    "\n",
    "    data_frame = pd.DataFrame({\"content\": data_extract.squeeze(), \"label\": data['label'].values})\n",
    "    data_review_array, counter, tfidfer = tf_idf_(data_frame.content)\n",
    "    label = data_frame.label.values\n",
    "\n",
    "    X_train, X_test, y_train, y_test = train_test_split(data_review_array, label, test_size=0.3, random_state=0)\n",
    "\n",
    "    sentiment = LogisticRegression(penalty='l2', C=1.0)\n",
    "    sentiment.fit(X_train, y_train)\n",
    "\n",
    "    # 保存模型\n",
    "    joblib.dump(sentiment, os.path.join(save_dir, 'sentiment_model.pkl'))\n",
    "    joblib.dump(counter, os.path.join(save_dir, 'count_vectorizer.pkl'))\n",
    "    joblib.dump(tfidfer, os.path.join(save_dir, 'tfidf_transformer.pkl'))\n",
    "\n",
    "    print('模型已保存')\n",
    "    print('测试 accuracy = ', accuracy_score(y_test, sentiment.predict(X_test)))\n",
    "\n",
    "\n",
    "# 使用权重推理\n",
    "def predict_sentiment(input_csv, save_dir):\n",
    "    stop_word, zh_pattern = create_stop_words_list()\n",
    "\n",
    "    sentiment = joblib.load(os.path.join(save_dir, 'sentiment_model.pkl'))\n",
    "    counter = joblib.load(os.path.join(save_dir, 'count_vectorizer.pkl'))\n",
    "    tfidfer = joblib.load(os.path.join(save_dir, 'tfidf_transformer.pkl'))\n",
    "\n",
    "    input_data = pd.read_csv(input_csv, header=0)\n",
    "    input_data_e = input_data['content'].apply(lambda x: extract_words(x, zh_pattern, stop_word))\n",
    "    input_counts = counter.transform(input_data_e)\n",
    "    input_tfidf = tfidfer.transform(input_counts)\n",
    "    predictions = sentiment.predict(input_tfidf)\n",
    "    input_data['predicted_label'] = predictions\n",
    "    input_data.to_csv('predicted_results.csv', index=False)\n",
    "    print('预测的结果已经被添加到predicted_results.csv')"
   ],
   "metadata": {
    "collapsed": false,
    "ExecuteTime": {
     "end_time": "2024-08-07T07:29:12.370215600Z",
     "start_time": "2024-08-07T07:29:12.331206700Z"
    }
   },
   "execution_count": 46
  },
  {
   "cell_type": "code",
   "outputs": [
    {
     "name": "stdout",
     "output_type": "stream",
     "text": [
      "未检测到模型，将开始训练模型并推断。保存的模型见results_of_logistic文件夹\n",
      "模型已保存\n",
      "测试 accuracy =  0.8785384247703011\n",
      "预测的结果已经被添加到predicted_results.csv\n"
     ]
    }
   ],
   "source": [
    "if __name__ == '__main__':\n",
    "\n",
    "    # 创建保存路径\n",
    "    save_dir = os.path.join(os.getcwd(), 'results_of_logistic')\n",
    "    os.makedirs(save_dir, exist_ok=True)\n",
    "\n",
    "    model_path = os.path.join(save_dir, 'sentiment_model.pkl')\n",
    "    counter_path = os.path.join(save_dir, 'count_vectorizer.pkl')\n",
    "    tfidf_path = os.path.join(save_dir, 'tfidf_transformer.pkl')\n",
    "\n",
    "    # 如果已经有了保存文件，就不用训练了\n",
    "    if not (os.path.exists(model_path) and os.path.exists(counter_path) and os.path.exists(tfidf_path)):\n",
    "        print(\"未检测到模型，将开始训练模型并推断。保存的模型见results_of_logistic文件夹\")\n",
    "        train_model(save_dir)\n",
    "    else:\n",
    "        print(\"检测到模型已存在，将直接使用保存的模型推断。\\n如果希望自己训练，请删掉results_of_logistic文件夹或改名\")\n",
    "\n",
    "    # 直接使用Logistic模型预测输入文档，并将预测标签写在表里返回成新表\n",
    "    input_csv = 'test.csv'\n",
    "    predict_sentiment(input_csv, save_dir)"
   ],
   "metadata": {
    "ExecuteTime": {
     "end_time": "2024-08-07T07:30:46.019821200Z",
     "start_time": "2024-08-07T07:29:12.724065300Z"
    }
   },
   "execution_count": 47
  },
  {
   "cell_type": "markdown",
   "source": [
    "### 神经网络版本"
   ],
   "metadata": {
    "collapsed": false
   }
  },
  {
   "cell_type": "code",
   "outputs": [
    {
     "name": "stdout",
     "output_type": "stream",
     "text": [
      "cuda\n"
     ]
    }
   ],
   "source": [
    "# 导入所有需要用到的软件包\n",
    "\n",
    "import os\n",
    "import torch\n",
    "import torch.nn as nn\n",
    "import torch.optim as optim\n",
    "import jieba\n",
    "import pandas as pd\n",
    "from torch.utils.data import DataLoader, TensorDataset, random_split\n",
    "import joblib\n",
    "from sklearn.feature_extraction.text import CountVectorizer, TfidfTransformer\n",
    "\n",
    "# 使用GPU\n",
    "device = torch.device(\"cuda\" if torch.cuda.is_available() else \"cpu\")\n",
    "print(device)"
   ],
   "metadata": {
    "collapsed": false,
    "ExecuteTime": {
     "end_time": "2024-08-06T08:50:15.073755700Z",
     "start_time": "2024-08-06T08:50:15.059737600Z"
    }
   },
   "execution_count": 10
  },
  {
   "cell_type": "code",
   "outputs": [],
   "source": [
    "## 模型代码\n",
    "\n",
    "class SentimentAnalysisModel(nn.Module):\n",
    "    def __init__(self, input_dim):\n",
    "        super(SentimentAnalysisModel, self).__init__()\n",
    "        self.fc1 = nn.Linear(input_dim, 512)\n",
    "        self.dropout1 = nn.Dropout(0.5)\n",
    "        self.fc2 = nn.Linear(512, 256)\n",
    "        self.dropout2 = nn.Dropout(0.5)\n",
    "        self.fc3 = nn.Linear(256, 128)\n",
    "        self.dropout3 = nn.Dropout(0.5)\n",
    "        self.fc4 = nn.Linear(128, 1)\n",
    "\n",
    "    def forward(self, x):\n",
    "        x = torch.relu(self.fc1(x))\n",
    "        x = self.dropout1(x)\n",
    "        x = torch.relu(self.fc2(x))\n",
    "        x = self.dropout2(x)\n",
    "        x = torch.relu(self.fc3(x))\n",
    "        x = self.dropout3(x)\n",
    "        x = torch.sigmoid(self.fc4(x))\n",
    "        return x"
   ],
   "metadata": {
    "collapsed": false
   },
   "execution_count": null
  },
  {
   "cell_type": "code",
   "outputs": [],
   "source": [
    "# 工具函数，同logistic\n",
    "\n",
    "def create_stop_words_list():\n",
    "    stop_word_path = os.path.join(os.getcwd(), 'stopwords-master', '中文停用词表.txt')\n",
    "    zh_pattern = re.compile(u'[\\u4e00-\\u9fa5]+')\n",
    "    stop_word = pd.read_csv(stop_word_path, header=None)\n",
    "    stop_word = stop_word.values.reshape(-1)\n",
    "    stop_word = [stop for stop in stop_word]\n",
    "    stop_word.append(' ')\n",
    "    return stop_word, zh_pattern\n",
    "\n",
    "\n",
    "def extract_words(word, zh_pattern, stop_word):\n",
    "    word = str(word).strip()\n",
    "    zh_word = re.findall(zh_pattern, word)\n",
    "    lst = jieba.cut(''.join(zh_word), cut_all=False)\n",
    "    final_word = [char for char in lst if char not in stop_word]\n",
    "    return ' '.join(final_word)\n",
    "\n",
    "\n",
    "def tf_idf_(content):\n",
    "    counter = CountVectorizer(max_df=0.8, min_df=0.001)\n",
    "    counts = counter.fit_transform(content)\n",
    "    tfidfer = TfidfTransformer()\n",
    "    tfidf = tfidfer.fit_transform(counts)\n",
    "    data_review_array = tfidf.toarray()\n",
    "    return data_review_array, counter, tfidfer"
   ],
   "metadata": {
    "collapsed": false
   },
   "execution_count": null
  },
  {
   "cell_type": "code",
   "outputs": [],
   "source": [
    "# 将会保存最优模型和最新模型\n",
    "\n",
    "def train_model(save_dir, data, label):\n",
    "    stop_word, zh_pattern = create_stop_words_list()\n",
    "    data_e = data['review'].apply(lambda x: extract_words(x, zh_pattern, stop_word))\n",
    "    data_extract = pd.DataFrame(data_e.values, columns=['content'])\n",
    "    data_frame = pd.DataFrame({\"content\": data_extract.squeeze(), \"label\": label})\n",
    "\n",
    "    data_review_array, counter, tfidfer = tf_idf_(data_frame.content)\n",
    "    label = data_frame.label.values\n",
    "\n",
    "    X = torch.tensor(data_review_array, dtype=torch.float32).to(device)\n",
    "    y = torch.tensor(label, dtype=torch.float32).to(device)\n",
    "\n",
    "    X_train, X_test, y_train, y_test = train_test_split(X, y, test_size=0.2, random_state=0)\n",
    "\n",
    "    train_dataset = TensorDataset(X_train, y_train)\n",
    "    test_dataset = TensorDataset(X_test, y_test)\n",
    "\n",
    "    train_loader = DataLoader(train_dataset, batch_size=512, shuffle=True)\n",
    "    test_loader = DataLoader(test_dataset, batch_size=512, shuffle=True)\n",
    "\n",
    "    input_dim = data_review_array.shape[1]\n",
    "    model = SentimentAnalysisModel(input_dim).to(device)\n",
    "\n",
    "    criterion = nn.BCELoss()\n",
    "    optimizer = optim.Adam(model.parameters(), lr=1e-5, weight_decay=1e-5)\n",
    "\n",
    "    num_epochs = 200\n",
    "    n = 1\n",
    "    best_accuracy = 0.0\n",
    "    best_epoch = 0\n",
    "\n",
    "    for epoch in range(num_epochs):\n",
    "        model.train()\n",
    "        running_loss = 0.0\n",
    "        for inputs, labels in train_loader:\n",
    "            inputs, labels = inputs.to(device), labels.to(device).view(-1, 1)\n",
    "            outputs = model(inputs)\n",
    "            loss = criterion(outputs, labels)\n",
    "\n",
    "            optimizer.zero_grad()\n",
    "            loss.backward()\n",
    "            optimizer.step()\n",
    "\n",
    "            running_loss += loss.item() * inputs.size(0)\n",
    "\n",
    "        epoch_loss = running_loss / len(train_loader.dataset)\n",
    "\n",
    "        if (epoch + 1) % n == 0:\n",
    "            model.eval()\n",
    "            correct = 0\n",
    "            total = 0\n",
    "            with torch.no_grad():\n",
    "                for inputs, labels in test_loader:\n",
    "                    inputs, labels = inputs.to(device), labels.to(device).view(-1, 1)\n",
    "                    outputs = model(inputs)\n",
    "                    predicted = (outputs > 0.5).float()\n",
    "                    total += labels.size(0)\n",
    "                    correct += (predicted == labels).sum().item()\n",
    "\n",
    "            accuracy = correct / total\n",
    "            print(f'Test Accuracy after epoch {epoch + 1}: {accuracy:.4f}')\n",
    "\n",
    "            torch.save(model.state_dict(), os.path.join(save_dir, 'latest_model.pth'))\n",
    "\n",
    "            if accuracy > best_accuracy:\n",
    "                best_accuracy = accuracy\n",
    "                best_epoch = epoch\n",
    "                torch.save(model.state_dict(), os.path.join(save_dir, 'best_model.pth'))\n",
    "            print(\"best epoch at : \", best_epoch, \", best accuracy : \", best_accuracy)\n",
    "\n",
    "            with open(os.path.join(save_dir, 'log.txt'), 'a') as log_file:\n",
    "                log_file.write(f'Epoch {epoch + 1}: Test Accuracy: {accuracy:.4f}\\n')\n",
    "\n",
    "    joblib.dump(counter, os.path.join(save_dir, 'count_vectorizer.pkl'))\n",
    "    joblib.dump(tfidfer, os.path.join(save_dir, 'tfidf_transformer.pkl'))\n",
    "\n",
    "\n",
    "## 调用模型进行推理\n",
    "def predict_sentiment(input_csv, save_dir):\n",
    "    counter = joblib.load(os.path.join(save_dir, 'count_vectorizer.pkl'))\n",
    "    tfidfer = joblib.load(os.path.join(save_dir, 'tfidf_transformer.pkl'))\n",
    "\n",
    "    input_dim = counter.transform(['']).shape[1]\n",
    "    model = SentimentAnalysisModel(input_dim).to(device)\n",
    "    model.load_state_dict(torch.load(os.path.join(save_dir, 'best_model.pth')))\n",
    "    model.eval()\n",
    "\n",
    "    input_data = pd.read_csv(input_csv, header=0)\n",
    "    stop_word, zh_pattern = create_stop_words_list()\n",
    "    input_data_e = input_data['content'].apply(lambda x: extract_words(x, zh_pattern, stop_word))\n",
    "    input_counts = counter.transform(input_data_e)\n",
    "    input_tfidf = tfidfer.transform(input_counts)\n",
    "    input_tfidf = torch.tensor(input_tfidf.toarray(), dtype=torch.float32).to(device)\n",
    "\n",
    "    with torch.no_grad():\n",
    "        outputs = model(input_tfidf)\n",
    "        predictions = (outputs > 0.5).float().cpu().numpy()\n",
    "\n",
    "    input_data['predicted_label'] = predictions\n",
    "    input_data.to_csv(os.path.join(save_dir, 'predicted_results.csv'), index=False)\n",
    "    print('预测的结果已经被添加到predicted_results.csv')\n"
   ],
   "metadata": {
    "collapsed": false
   },
   "execution_count": null
  },
  {
   "cell_type": "code",
   "outputs": [
    {
     "name": "stdout",
     "output_type": "stream",
     "text": [
      "未检测到模型，将开始训练模型并推断。保存的模型见results_of_nn文件夹\n",
      "Test Accuracy after epoch 1: 0.5050\n",
      "best epoch at :  0 , best accuracy :  0.504965744330554\n",
      "Test Accuracy after epoch 2: 0.5050\n",
      "best epoch at :  0 , best accuracy :  0.504965744330554\n",
      "Test Accuracy after epoch 3: 0.5050\n",
      "best epoch at :  0 , best accuracy :  0.504965744330554\n",
      "Test Accuracy after epoch 4: 0.5050\n",
      "best epoch at :  0 , best accuracy :  0.504965744330554\n",
      "Test Accuracy after epoch 5: 0.5050\n",
      "best epoch at :  0 , best accuracy :  0.504965744330554\n",
      "Test Accuracy after epoch 6: 0.5050\n",
      "best epoch at :  0 , best accuracy :  0.504965744330554\n",
      "Test Accuracy after epoch 7: 0.5332\n",
      "best epoch at :  6 , best accuracy :  0.5331669233628976\n",
      "Test Accuracy after epoch 8: 0.6675\n",
      "best epoch at :  7 , best accuracy :  0.6674810133305008\n",
      "Test Accuracy after epoch 9: 0.7861\n",
      "best epoch at :  8 , best accuracy :  0.786074672048436\n",
      "Test Accuracy after epoch 10: 0.8295\n",
      "best epoch at :  9 , best accuracy :  0.829465186680121\n",
      "Test Accuracy after epoch 11: 0.8502\n",
      "best epoch at :  10 , best accuracy :  0.8501779170428594\n",
      "Test Accuracy after epoch 12: 0.8542\n",
      "best epoch at :  11 , best accuracy :  0.854161134420309\n",
      "Test Accuracy after epoch 13: 0.8597\n",
      "best epoch at :  12 , best accuracy :  0.859684529183706\n",
      "Test Accuracy after epoch 14: 0.8612\n",
      "best epoch at :  13 , best accuracy :  0.8612247065696532\n",
      "Test Accuracy after epoch 15: 0.8631\n",
      "best epoch at :  14 , best accuracy :  0.863136650910829\n",
      "Test Accuracy after epoch 16: 0.8655\n",
      "best epoch at :  15 , best accuracy :  0.8655265813372989\n",
      "Test Accuracy after epoch 17: 0.8679\n",
      "best epoch at :  16 , best accuracy :  0.8679165117637686\n",
      "Test Accuracy after epoch 18: 0.8694\n",
      "best epoch at :  17 , best accuracy :  0.8693504700196505\n",
      "Test Accuracy after epoch 19: 0.8708\n",
      "best epoch at :  18 , best accuracy :  0.8707844282755324\n",
      "Test Accuracy after epoch 20: 0.8724\n",
      "best epoch at :  19 , best accuracy :  0.8723777152265123\n",
      "Test Accuracy after epoch 21: 0.8735\n",
      "best epoch at :  20 , best accuracy :  0.8735461256572309\n",
      "Test Accuracy after epoch 22: 0.8743\n",
      "best epoch at :  21 , best accuracy :  0.8742896595676881\n",
      "Test Accuracy after epoch 23: 0.8750\n",
      "best epoch at :  22 , best accuracy :  0.8749800839131128\n",
      "Test Accuracy after epoch 24: 0.8761\n",
      "best epoch at :  23 , best accuracy :  0.8760953847787987\n",
      "Test Accuracy after epoch 25: 0.8765\n",
      "best epoch at :  24 , best accuracy :  0.8764671517340273\n",
      "Test Accuracy after epoch 26: 0.8774\n",
      "best epoch at :  25 , best accuracy :  0.8773700143395825\n",
      "Test Accuracy after epoch 27: 0.8780\n",
      "best epoch at :  26 , best accuracy :  0.8779542195549418\n",
      "Test Accuracy after epoch 28: 0.8788\n",
      "best epoch at :  27 , best accuracy :  0.8787508630304318\n",
      "Test Accuracy after epoch 29: 0.8792\n",
      "best epoch at :  28 , best accuracy :  0.8792288491157257\n",
      "Test Accuracy after epoch 30: 0.8799\n",
      "best epoch at :  29 , best accuracy :  0.8799192734611504\n",
      "Test Accuracy after epoch 31: 0.8798\n",
      "best epoch at :  29 , best accuracy :  0.8799192734611504\n",
      "Test Accuracy after epoch 32: 0.8800\n",
      "best epoch at :  31 , best accuracy :  0.879972383026183\n",
      "Test Accuracy after epoch 33: 0.8799\n",
      "best epoch at :  31 , best accuracy :  0.879972383026183\n",
      "Test Accuracy after epoch 34: 0.8800\n",
      "best epoch at :  33 , best accuracy :  0.8800254925912157\n",
      "Test Accuracy after epoch 35: 0.8802\n",
      "best epoch at :  34 , best accuracy :  0.8801848212863137\n",
      "Test Accuracy after epoch 36: 0.8799\n",
      "best epoch at :  34 , best accuracy :  0.8801848212863137\n",
      "Test Accuracy after epoch 37: 0.8800\n",
      "best epoch at :  34 , best accuracy :  0.8801848212863137\n",
      "Test Accuracy after epoch 38: 0.8808\n",
      "best epoch at :  37 , best accuracy :  0.880769026501673\n",
      "Test Accuracy after epoch 39: 0.8809\n",
      "best epoch at :  38 , best accuracy :  0.8808752456317382\n",
      "Test Accuracy after epoch 40: 0.8813\n",
      "best epoch at :  39 , best accuracy :  0.8813001221519996\n",
      "Test Accuracy after epoch 41: 0.8815\n",
      "best epoch at :  40 , best accuracy :  0.8815125604121302\n",
      "Test Accuracy after epoch 42: 0.8816\n",
      "best epoch at :  41 , best accuracy :  0.8816187795421956\n",
      "Test Accuracy after epoch 43: 0.8815\n",
      "best epoch at :  41 , best accuracy :  0.8816187795421956\n",
      "Test Accuracy after epoch 44: 0.8816\n",
      "best epoch at :  41 , best accuracy :  0.8816187795421956\n",
      "Test Accuracy after epoch 45: 0.8818\n",
      "best epoch at :  44 , best accuracy :  0.8817781082372935\n",
      "Test Accuracy after epoch 46: 0.8816\n",
      "best epoch at :  44 , best accuracy :  0.8817781082372935\n",
      "Test Accuracy after epoch 47: 0.8815\n",
      "best epoch at :  44 , best accuracy :  0.8817781082372935\n",
      "Test Accuracy after epoch 48: 0.8816\n",
      "best epoch at :  44 , best accuracy :  0.8817781082372935\n",
      "Test Accuracy after epoch 49: 0.8819\n",
      "best epoch at :  48 , best accuracy :  0.8819374369323916\n",
      "Test Accuracy after epoch 50: 0.8817\n",
      "best epoch at :  48 , best accuracy :  0.8819374369323916\n",
      "Test Accuracy after epoch 51: 0.8820\n",
      "best epoch at :  50 , best accuracy :  0.8820436560624568\n",
      "Test Accuracy after epoch 52: 0.8819\n",
      "best epoch at :  50 , best accuracy :  0.8820436560624568\n",
      "Test Accuracy after epoch 53: 0.8817\n",
      "best epoch at :  50 , best accuracy :  0.8820436560624568\n",
      "Test Accuracy after epoch 54: 0.8815\n",
      "best epoch at :  50 , best accuracy :  0.8820436560624568\n",
      "Test Accuracy after epoch 55: 0.8818\n",
      "best epoch at :  50 , best accuracy :  0.8820436560624568\n",
      "Test Accuracy after epoch 56: 0.8816\n",
      "best epoch at :  50 , best accuracy :  0.8820436560624568\n",
      "Test Accuracy after epoch 57: 0.8812\n",
      "best epoch at :  50 , best accuracy :  0.8820436560624568\n",
      "Test Accuracy after epoch 58: 0.8812\n",
      "best epoch at :  50 , best accuracy :  0.8820436560624568\n",
      "Test Accuracy after epoch 59: 0.8820\n",
      "best epoch at :  50 , best accuracy :  0.8820436560624568\n",
      "Test Accuracy after epoch 60: 0.8823\n",
      "best epoch at :  59 , best accuracy :  0.8822560943225874\n",
      "Test Accuracy after epoch 61: 0.8818\n",
      "best epoch at :  59 , best accuracy :  0.8822560943225874\n",
      "Test Accuracy after epoch 62: 0.8822\n",
      "best epoch at :  59 , best accuracy :  0.8822560943225874\n",
      "Test Accuracy after epoch 63: 0.8823\n",
      "best epoch at :  62 , best accuracy :  0.8823092038876201\n",
      "Test Accuracy after epoch 64: 0.8823\n",
      "best epoch at :  62 , best accuracy :  0.8823092038876201\n",
      "Test Accuracy after epoch 65: 0.8821\n",
      "best epoch at :  62 , best accuracy :  0.8823092038876201\n",
      "Test Accuracy after epoch 66: 0.8821\n",
      "best epoch at :  62 , best accuracy :  0.8823092038876201\n",
      "Test Accuracy after epoch 67: 0.8819\n",
      "best epoch at :  62 , best accuracy :  0.8823092038876201\n",
      "Test Accuracy after epoch 68: 0.8820\n",
      "best epoch at :  62 , best accuracy :  0.8823092038876201\n",
      "Test Accuracy after epoch 69: 0.8817\n",
      "best epoch at :  62 , best accuracy :  0.8823092038876201\n",
      "Test Accuracy after epoch 70: 0.8817\n",
      "best epoch at :  62 , best accuracy :  0.8823092038876201\n",
      "Test Accuracy after epoch 71: 0.8817\n",
      "best epoch at :  62 , best accuracy :  0.8823092038876201\n",
      "Test Accuracy after epoch 72: 0.8817\n",
      "best epoch at :  62 , best accuracy :  0.8823092038876201\n",
      "Test Accuracy after epoch 73: 0.8819\n",
      "best epoch at :  62 , best accuracy :  0.8823092038876201\n",
      "Test Accuracy after epoch 74: 0.8818\n",
      "best epoch at :  62 , best accuracy :  0.8823092038876201\n",
      "Test Accuracy after epoch 75: 0.8816\n",
      "best epoch at :  62 , best accuracy :  0.8823092038876201\n",
      "Test Accuracy after epoch 76: 0.8817\n",
      "best epoch at :  62 , best accuracy :  0.8823092038876201\n",
      "Test Accuracy after epoch 77: 0.8817\n",
      "best epoch at :  62 , best accuracy :  0.8823092038876201\n",
      "Test Accuracy after epoch 78: 0.8817\n",
      "best epoch at :  62 , best accuracy :  0.8823092038876201\n",
      "Test Accuracy after epoch 79: 0.8816\n",
      "best epoch at :  62 , best accuracy :  0.8823092038876201\n",
      "Test Accuracy after epoch 80: 0.8814\n",
      "best epoch at :  62 , best accuracy :  0.8823092038876201\n",
      "Test Accuracy after epoch 81: 0.8816\n",
      "best epoch at :  62 , best accuracy :  0.8823092038876201\n",
      "Test Accuracy after epoch 82: 0.8817\n",
      "best epoch at :  62 , best accuracy :  0.8823092038876201\n",
      "Test Accuracy after epoch 83: 0.8817\n",
      "best epoch at :  62 , best accuracy :  0.8823092038876201\n",
      "Test Accuracy after epoch 84: 0.8815\n",
      "best epoch at :  62 , best accuracy :  0.8823092038876201\n",
      "Test Accuracy after epoch 85: 0.8816\n",
      "best epoch at :  62 , best accuracy :  0.8823092038876201\n",
      "Test Accuracy after epoch 86: 0.8815\n",
      "best epoch at :  62 , best accuracy :  0.8823092038876201\n",
      "Test Accuracy after epoch 87: 0.8812\n",
      "best epoch at :  62 , best accuracy :  0.8823092038876201\n",
      "Test Accuracy after epoch 88: 0.8815\n",
      "best epoch at :  62 , best accuracy :  0.8823092038876201\n",
      "Test Accuracy after epoch 89: 0.8815\n",
      "best epoch at :  62 , best accuracy :  0.8823092038876201\n",
      "Test Accuracy after epoch 90: 0.8810\n",
      "best epoch at :  62 , best accuracy :  0.8823092038876201\n",
      "Test Accuracy after epoch 91: 0.8814\n",
      "best epoch at :  62 , best accuracy :  0.8823092038876201\n",
      "Test Accuracy after epoch 92: 0.8811\n",
      "best epoch at :  62 , best accuracy :  0.8823092038876201\n",
      "Test Accuracy after epoch 93: 0.8812\n",
      "best epoch at :  62 , best accuracy :  0.8823092038876201\n",
      "Test Accuracy after epoch 94: 0.8811\n",
      "best epoch at :  62 , best accuracy :  0.8823092038876201\n",
      "Test Accuracy after epoch 95: 0.8810\n",
      "best epoch at :  62 , best accuracy :  0.8823092038876201\n",
      "Test Accuracy after epoch 96: 0.8811\n",
      "best epoch at :  62 , best accuracy :  0.8823092038876201\n",
      "Test Accuracy after epoch 97: 0.8811\n",
      "best epoch at :  62 , best accuracy :  0.8823092038876201\n",
      "Test Accuracy after epoch 98: 0.8810\n",
      "best epoch at :  62 , best accuracy :  0.8823092038876201\n",
      "Test Accuracy after epoch 99: 0.8811\n",
      "best epoch at :  62 , best accuracy :  0.8823092038876201\n",
      "Test Accuracy after epoch 100: 0.8811\n",
      "best epoch at :  62 , best accuracy :  0.8823092038876201\n",
      "Test Accuracy after epoch 101: 0.8811\n",
      "best epoch at :  62 , best accuracy :  0.8823092038876201\n",
      "Test Accuracy after epoch 102: 0.8807\n",
      "best epoch at :  62 , best accuracy :  0.8823092038876201\n",
      "Test Accuracy after epoch 103: 0.8809\n",
      "best epoch at :  62 , best accuracy :  0.8823092038876201\n",
      "Test Accuracy after epoch 104: 0.8809\n",
      "best epoch at :  62 , best accuracy :  0.8823092038876201\n",
      "Test Accuracy after epoch 105: 0.8811\n",
      "best epoch at :  62 , best accuracy :  0.8823092038876201\n",
      "Test Accuracy after epoch 106: 0.8810\n",
      "best epoch at :  62 , best accuracy :  0.8823092038876201\n",
      "Test Accuracy after epoch 107: 0.8811\n",
      "best epoch at :  62 , best accuracy :  0.8823092038876201\n",
      "Test Accuracy after epoch 108: 0.8809\n",
      "best epoch at :  62 , best accuracy :  0.8823092038876201\n",
      "Test Accuracy after epoch 109: 0.8811\n",
      "best epoch at :  62 , best accuracy :  0.8823092038876201\n",
      "Test Accuracy after epoch 110: 0.8808\n",
      "best epoch at :  62 , best accuracy :  0.8823092038876201\n",
      "Test Accuracy after epoch 111: 0.8810\n",
      "best epoch at :  62 , best accuracy :  0.8823092038876201\n",
      "Test Accuracy after epoch 112: 0.8811\n",
      "best epoch at :  62 , best accuracy :  0.8823092038876201\n",
      "Test Accuracy after epoch 113: 0.8807\n",
      "best epoch at :  62 , best accuracy :  0.8823092038876201\n",
      "Test Accuracy after epoch 114: 0.8812\n",
      "best epoch at :  62 , best accuracy :  0.8823092038876201\n",
      "Test Accuracy after epoch 115: 0.8809\n",
      "best epoch at :  62 , best accuracy :  0.8823092038876201\n",
      "Test Accuracy after epoch 116: 0.8810\n",
      "best epoch at :  62 , best accuracy :  0.8823092038876201\n",
      "Test Accuracy after epoch 117: 0.8811\n",
      "best epoch at :  62 , best accuracy :  0.8823092038876201\n",
      "Test Accuracy after epoch 118: 0.8810\n",
      "best epoch at :  62 , best accuracy :  0.8823092038876201\n",
      "Test Accuracy after epoch 119: 0.8813\n",
      "best epoch at :  62 , best accuracy :  0.8823092038876201\n",
      "Test Accuracy after epoch 120: 0.8813\n",
      "best epoch at :  62 , best accuracy :  0.8823092038876201\n",
      "Test Accuracy after epoch 121: 0.8811\n",
      "best epoch at :  62 , best accuracy :  0.8823092038876201\n",
      "Test Accuracy after epoch 122: 0.8813\n",
      "best epoch at :  62 , best accuracy :  0.8823092038876201\n",
      "Test Accuracy after epoch 123: 0.8807\n",
      "best epoch at :  62 , best accuracy :  0.8823092038876201\n",
      "Test Accuracy after epoch 124: 0.8811\n",
      "best epoch at :  62 , best accuracy :  0.8823092038876201\n",
      "Test Accuracy after epoch 125: 0.8808\n",
      "best epoch at :  62 , best accuracy :  0.8823092038876201\n",
      "Test Accuracy after epoch 126: 0.8806\n",
      "best epoch at :  62 , best accuracy :  0.8823092038876201\n",
      "Test Accuracy after epoch 127: 0.8803\n",
      "best epoch at :  62 , best accuracy :  0.8823092038876201\n",
      "Test Accuracy after epoch 128: 0.8809\n",
      "best epoch at :  62 , best accuracy :  0.8823092038876201\n",
      "Test Accuracy after epoch 129: 0.8807\n",
      "best epoch at :  62 , best accuracy :  0.8823092038876201\n",
      "Test Accuracy after epoch 130: 0.8806\n",
      "best epoch at :  62 , best accuracy :  0.8823092038876201\n",
      "Test Accuracy after epoch 131: 0.8807\n",
      "best epoch at :  62 , best accuracy :  0.8823092038876201\n",
      "Test Accuracy after epoch 132: 0.8809\n",
      "best epoch at :  62 , best accuracy :  0.8823092038876201\n",
      "Test Accuracy after epoch 133: 0.8803\n",
      "best epoch at :  62 , best accuracy :  0.8823092038876201\n",
      "Test Accuracy after epoch 134: 0.8806\n",
      "best epoch at :  62 , best accuracy :  0.8823092038876201\n",
      "Test Accuracy after epoch 135: 0.8810\n",
      "best epoch at :  62 , best accuracy :  0.8823092038876201\n",
      "Test Accuracy after epoch 136: 0.8807\n",
      "best epoch at :  62 , best accuracy :  0.8823092038876201\n",
      "Test Accuracy after epoch 137: 0.8808\n",
      "best epoch at :  62 , best accuracy :  0.8823092038876201\n",
      "Test Accuracy after epoch 138: 0.8807\n",
      "best epoch at :  62 , best accuracy :  0.8823092038876201\n",
      "Test Accuracy after epoch 139: 0.8806\n",
      "best epoch at :  62 , best accuracy :  0.8823092038876201\n",
      "Test Accuracy after epoch 140: 0.8805\n",
      "best epoch at :  62 , best accuracy :  0.8823092038876201\n",
      "Test Accuracy after epoch 141: 0.8803\n",
      "best epoch at :  62 , best accuracy :  0.8823092038876201\n",
      "Test Accuracy after epoch 142: 0.8803\n",
      "best epoch at :  62 , best accuracy :  0.8823092038876201\n",
      "Test Accuracy after epoch 143: 0.8803\n",
      "best epoch at :  62 , best accuracy :  0.8823092038876201\n",
      "Test Accuracy after epoch 144: 0.8803\n",
      "best epoch at :  62 , best accuracy :  0.8823092038876201\n",
      "Test Accuracy after epoch 145: 0.8801\n",
      "best epoch at :  62 , best accuracy :  0.8823092038876201\n",
      "Test Accuracy after epoch 146: 0.8802\n",
      "best epoch at :  62 , best accuracy :  0.8823092038876201\n",
      "Test Accuracy after epoch 147: 0.8802\n",
      "best epoch at :  62 , best accuracy :  0.8823092038876201\n",
      "Test Accuracy after epoch 148: 0.8799\n",
      "best epoch at :  62 , best accuracy :  0.8823092038876201\n",
      "Test Accuracy after epoch 149: 0.8800\n",
      "best epoch at :  62 , best accuracy :  0.8823092038876201\n",
      "Test Accuracy after epoch 150: 0.8801\n",
      "best epoch at :  62 , best accuracy :  0.8823092038876201\n",
      "Test Accuracy after epoch 151: 0.8802\n",
      "best epoch at :  62 , best accuracy :  0.8823092038876201\n",
      "Test Accuracy after epoch 152: 0.8803\n",
      "best epoch at :  62 , best accuracy :  0.8823092038876201\n",
      "Test Accuracy after epoch 153: 0.8799\n",
      "best epoch at :  62 , best accuracy :  0.8823092038876201\n",
      "Test Accuracy after epoch 154: 0.8797\n",
      "best epoch at :  62 , best accuracy :  0.8823092038876201\n",
      "Test Accuracy after epoch 155: 0.8797\n",
      "best epoch at :  62 , best accuracy :  0.8823092038876201\n",
      "Test Accuracy after epoch 156: 0.8797\n",
      "best epoch at :  62 , best accuracy :  0.8823092038876201\n",
      "Test Accuracy after epoch 157: 0.8800\n",
      "best epoch at :  62 , best accuracy :  0.8823092038876201\n",
      "Test Accuracy after epoch 158: 0.8799\n",
      "best epoch at :  62 , best accuracy :  0.8823092038876201\n",
      "Test Accuracy after epoch 159: 0.8799\n",
      "best epoch at :  62 , best accuracy :  0.8823092038876201\n",
      "Test Accuracy after epoch 160: 0.8800\n",
      "best epoch at :  62 , best accuracy :  0.8823092038876201\n",
      "Test Accuracy after epoch 161: 0.8801\n",
      "best epoch at :  62 , best accuracy :  0.8823092038876201\n",
      "Test Accuracy after epoch 162: 0.8800\n",
      "best epoch at :  62 , best accuracy :  0.8823092038876201\n",
      "Test Accuracy after epoch 163: 0.8800\n",
      "best epoch at :  62 , best accuracy :  0.8823092038876201\n",
      "Test Accuracy after epoch 164: 0.8802\n",
      "best epoch at :  62 , best accuracy :  0.8823092038876201\n",
      "Test Accuracy after epoch 165: 0.8802\n",
      "best epoch at :  62 , best accuracy :  0.8823092038876201\n",
      "Test Accuracy after epoch 166: 0.8800\n",
      "best epoch at :  62 , best accuracy :  0.8823092038876201\n",
      "Test Accuracy after epoch 167: 0.8797\n",
      "best epoch at :  62 , best accuracy :  0.8823092038876201\n",
      "Test Accuracy after epoch 168: 0.8798\n",
      "best epoch at :  62 , best accuracy :  0.8823092038876201\n",
      "Test Accuracy after epoch 169: 0.8799\n",
      "best epoch at :  62 , best accuracy :  0.8823092038876201\n",
      "Test Accuracy after epoch 170: 0.8797\n",
      "best epoch at :  62 , best accuracy :  0.8823092038876201\n",
      "Test Accuracy after epoch 171: 0.8800\n",
      "best epoch at :  62 , best accuracy :  0.8823092038876201\n",
      "Test Accuracy after epoch 172: 0.8800\n",
      "best epoch at :  62 , best accuracy :  0.8823092038876201\n",
      "Test Accuracy after epoch 173: 0.8800\n",
      "best epoch at :  62 , best accuracy :  0.8823092038876201\n",
      "Test Accuracy after epoch 174: 0.8798\n",
      "best epoch at :  62 , best accuracy :  0.8823092038876201\n",
      "Test Accuracy after epoch 175: 0.8799\n",
      "best epoch at :  62 , best accuracy :  0.8823092038876201\n",
      "Test Accuracy after epoch 176: 0.8797\n",
      "best epoch at :  62 , best accuracy :  0.8823092038876201\n",
      "Test Accuracy after epoch 177: 0.8794\n",
      "best epoch at :  62 , best accuracy :  0.8823092038876201\n",
      "Test Accuracy after epoch 178: 0.8797\n",
      "best epoch at :  62 , best accuracy :  0.8823092038876201\n",
      "Test Accuracy after epoch 179: 0.8792\n",
      "best epoch at :  62 , best accuracy :  0.8823092038876201\n",
      "Test Accuracy after epoch 180: 0.8795\n",
      "best epoch at :  62 , best accuracy :  0.8823092038876201\n",
      "Test Accuracy after epoch 181: 0.8796\n",
      "best epoch at :  62 , best accuracy :  0.8823092038876201\n",
      "Test Accuracy after epoch 182: 0.8794\n",
      "best epoch at :  62 , best accuracy :  0.8823092038876201\n",
      "Test Accuracy after epoch 183: 0.8795\n",
      "best epoch at :  62 , best accuracy :  0.8823092038876201\n",
      "Test Accuracy after epoch 184: 0.8792\n",
      "best epoch at :  62 , best accuracy :  0.8823092038876201\n",
      "Test Accuracy after epoch 185: 0.8794\n",
      "best epoch at :  62 , best accuracy :  0.8823092038876201\n",
      "Test Accuracy after epoch 186: 0.8795\n",
      "best epoch at :  62 , best accuracy :  0.8823092038876201\n",
      "Test Accuracy after epoch 187: 0.8790\n",
      "best epoch at :  62 , best accuracy :  0.8823092038876201\n",
      "Test Accuracy after epoch 188: 0.8794\n",
      "best epoch at :  62 , best accuracy :  0.8823092038876201\n",
      "Test Accuracy after epoch 189: 0.8797\n",
      "best epoch at :  62 , best accuracy :  0.8823092038876201\n",
      "Test Accuracy after epoch 190: 0.8792\n",
      "best epoch at :  62 , best accuracy :  0.8823092038876201\n",
      "Test Accuracy after epoch 191: 0.8794\n",
      "best epoch at :  62 , best accuracy :  0.8823092038876201\n",
      "Test Accuracy after epoch 192: 0.8795\n",
      "best epoch at :  62 , best accuracy :  0.8823092038876201\n",
      "Test Accuracy after epoch 193: 0.8795\n",
      "best epoch at :  62 , best accuracy :  0.8823092038876201\n",
      "Test Accuracy after epoch 194: 0.8795\n",
      "best epoch at :  62 , best accuracy :  0.8823092038876201\n",
      "Test Accuracy after epoch 195: 0.8799\n",
      "best epoch at :  62 , best accuracy :  0.8823092038876201\n",
      "Test Accuracy after epoch 196: 0.8796\n",
      "best epoch at :  62 , best accuracy :  0.8823092038876201\n",
      "Test Accuracy after epoch 197: 0.8794\n",
      "best epoch at :  62 , best accuracy :  0.8823092038876201\n",
      "Test Accuracy after epoch 198: 0.8797\n",
      "best epoch at :  62 , best accuracy :  0.8823092038876201\n",
      "Test Accuracy after epoch 199: 0.8798\n",
      "best epoch at :  62 , best accuracy :  0.8823092038876201\n",
      "Test Accuracy after epoch 200: 0.8797\n",
      "best epoch at :  62 , best accuracy :  0.8823092038876201\n",
      "预测的结果已经被添加到predicted_results.csv\n"
     ]
    }
   ],
   "source": [
    "def main():\n",
    "    # 确保 results_of_nn 文件夹存在\n",
    "    if not os.path.exists('results_of_nn'):\n",
    "        os.makedirs('results_of_nn')\n",
    "\n",
    "    save_dir = os.path.join(os.getcwd(), 'results_of_nn')\n",
    "    os.makedirs(save_dir, exist_ok=True)\n",
    "\n",
    "    model_path = os.path.join(save_dir, 'best_model.pth')\n",
    "    counter_path = os.path.join(save_dir, 'count_vectorizer.pkl')\n",
    "    tfidf_path = os.path.join(save_dir, 'tfidf_transformer.pkl')\n",
    "\n",
    "    if not (os.path.exists(model_path) and os.path.exists(counter_path) and os.path.exists(tfidf_path)):\n",
    "        print(\"未检测到模型，将开始训练模型并推断。保存的模型见results_of_nn文件夹\")\n",
    "        data = pd.read_csv('online_shopping_10_cats.csv')  # 加载训练数据\n",
    "        train_model(save_dir, data, data['label'])\n",
    "    else:\n",
    "        print(\"检测到模型已存在，将直接使用保存的模型推断。\\n如果希望自己训练，请删掉results_of_nn文件夹或改名\")\n",
    "\n",
    "    input_csv = 'test.csv'\n",
    "    predict_sentiment(input_csv, save_dir)\n",
    "\n",
    "\n",
    "if __name__ == \"__main__\":\n",
    "    main()"
   ],
   "metadata": {
    "collapsed": false,
    "ExecuteTime": {
     "end_time": "2024-08-06T08:54:54.065027800Z",
     "start_time": "2024-08-06T08:50:47.970044Z"
    }
   },
   "execution_count": 12
  },
  {
   "cell_type": "markdown",
   "metadata": {},
   "source": [
    "## 步骤七：画出ROC曲线"
   ]
  },
  {
   "cell_type": "markdown",
   "source": [
    "### Logistic"
   ],
   "metadata": {
    "collapsed": false
   }
  },
  {
   "cell_type": "code",
   "outputs": [],
   "source": [
    "from sklearn.metrics import accuracy_score, confusion_matrix, make_scorer, auc\n",
    "import seaborn as sns\n",
    "import joblib\n",
    "from sklearn.metrics import roc_curve\n",
    "from matplotlib import pyplot as plt\n",
    "\n",
    "\n",
    "#绘制混淆矩阵\n",
    "def plot_confusion_matrix(cm, title):\n",
    "    plt.figure()\n",
    "    sns.heatmap(cm, annot=True, fmt=\"d\", cmap='coolwarm')  # Using 'coolwarm' for red-blue color scheme\n",
    "    plt.title(title)\n",
    "    plt.ylabel('Actual label')\n",
    "    plt.xlabel('Predicted label')\n",
    "    plt.show()\n",
    "\n",
    "\n",
    "#计算混淆矩阵，同时计算训练集和测试集\n",
    "def draw_confusion_matrix(model, X_train, X_test, y_train, y_test, title):\n",
    "    y_train_pred = model.predict(X_train)\n",
    "    y_test_pred = model.predict(X_test)\n",
    "    cm1 = confusion_matrix(y_train, y_train_pred)\n",
    "    cm2 = confusion_matrix(y_test, y_test_pred)\n",
    "    plot_confusion_matrix(cm1, title + ' train')\n",
    "    plot_confusion_matrix(cm2, title + ' test')\n",
    "\n",
    "\n",
    "##计算并绘制roc曲线，训练集和测试集需要分开绘制\n",
    "def plot_roc_curve(model, X, y, title):\n",
    "    y_proba = model.predict_proba(X)[:, 1]\n",
    "    fpr, tpr, thresholds = roc_curve(y, y_proba)\n",
    "    roc_auc = auc(fpr, tpr)\n",
    "    plt.figure()\n",
    "    plt.plot(fpr, tpr, label='ROC curve (area = %0.4f)' % roc_auc, color='red')\n",
    "    plt.plot([0, 1], [0, 1], color='navy', linestyle='--')\n",
    "    plt.legend(loc=\"lower right\")\n",
    "    plt.xlim([0.0, 1.0])\n",
    "    plt.ylim([0.0, 1.05])\n",
    "    plt.xlabel('False Positive Rate')\n",
    "    plt.ylabel('True Positive Rate')\n",
    "    plt.title(title)\n",
    "    plt.show()"
   ],
   "metadata": {
    "collapsed": false,
    "ExecuteTime": {
     "end_time": "2024-08-07T07:32:55.252411600Z",
     "start_time": "2024-08-07T07:32:55.132384200Z"
    }
   },
   "execution_count": 53
  },
  {
   "cell_type": "code",
   "execution_count": 54,
   "metadata": {
    "ExecuteTime": {
     "end_time": "2024-08-07T07:32:59.444105500Z",
     "start_time": "2024-08-07T07:32:57.486529600Z"
    }
   },
   "outputs": [
    {
     "data": {
      "text/plain": "<Figure size 640x480 with 2 Axes>",
      "image/png": "[encoded data removed]"
     },
     "metadata": {},
     "output_type": "display_data"
    },
    {
     "data": {
      "text/plain": "<Figure size 640x480 with 2 Axes>",
      "image/png": "[encoded data removed]"
     },
     "metadata": {},
     "output_type": "display_data"
    },
    {
     "data": {
      "text/plain": "<Figure size 640x480 with 1 Axes>",
      "image/png": "[encoded data removed]"
     },
     "metadata": {},
     "output_type": "display_data"
    },
    {
     "data": {
      "text/plain": "<Figure size 640x480 with 1 Axes>",
      "image/png": "[encoded data removed]"
     },
     "metadata": {},
     "output_type": "display_data"
    }
   ],
   "source": [
    "# 调用模型\n",
    "save_dir = os.path.join(os.getcwd(), 'results_of_logistic')\n",
    "sentiment = joblib.load(os.path.join(save_dir, 'sentiment_model.pkl'))\n",
    "# 调用上面的函数绘制矩阵和roc曲线\n",
    "draw_confusion_matrix(sentiment, X_train, X_test, y_train, y_test, 'Confusion Matrix for Logistic Regression')\n",
    "plot_roc_curve(sentiment, X_train, y_train, 'ROC curve for Logistic Regression train')\n",
    "plot_roc_curve(sentiment, X_test, y_test, 'ROC curve for Logistic Regression test')"
   ]
  },
  {
   "cell_type": "markdown",
   "source": [
    "### 神经网络"
   ],
   "metadata": {
    "collapsed": false
   }
  },
  {
   "cell_type": "code",
   "outputs": [],
   "source": [
    "# 绘制混淆矩阵\n",
    "def plot_confusion_matrix(cm, title):\n",
    "    plt.figure()\n",
    "    sns.heatmap(cm, annot=True, fmt=\"d\", cmap='coolwarm')\n",
    "    plt.title(title)\n",
    "    plt.ylabel('Actual label')\n",
    "    plt.xlabel('Predicted label')\n",
    "    plt.show()\n",
    "\n",
    "\n",
    "# 调用模型计算混淆矩阵\n",
    "def draw_confusion_matrix(model, X_train, X_test, y_train, y_test, title):\n",
    "    model.eval()\n",
    "    with torch.no_grad():\n",
    "        y_train_pred = model(X_train).cpu().numpy() > 0.5\n",
    "        y_test_pred = model(X_test).cpu().numpy() > 0.5\n",
    "\n",
    "    cm1 = confusion_matrix(y_train.cpu().numpy(), y_train_pred)\n",
    "    cm2 = confusion_matrix(y_test.cpu().numpy(), y_test_pred)\n",
    "    plot_confusion_matrix(cm1, title + ' train')\n",
    "    plot_confusion_matrix(cm2, title + ' test')\n",
    "\n",
    "\n",
    "# 绘制roc曲线\n",
    "def plot_roc_curve(model, X, y, title):\n",
    "    model.eval()\n",
    "    with torch.no_grad():\n",
    "        y_proba = model(X).cpu().numpy()\n",
    "\n",
    "    fpr, tpr, thresholds = roc_curve(y.cpu().numpy(), y_proba)\n",
    "    roc_auc = auc(fpr, tpr)\n",
    "    plt.figure()\n",
    "    plt.plot(fpr, tpr, label='ROC curve (area = %0.4f)' % roc_auc, color='red')\n",
    "    plt.plot([0, 1], [0, 1], color='navy', linestyle='--')\n",
    "    plt.legend(loc=\"lower right\")\n",
    "    plt.xlim([0.0, 1.0])\n",
    "    plt.ylim([0.0, 1.05])\n",
    "    plt.xlabel('False Positive Rate')\n",
    "    plt.ylabel('True Positive Rate')\n",
    "    plt.title(title)\n",
    "    plt.show()"
   ],
   "metadata": {
    "collapsed": false,
    "ExecuteTime": {
     "end_time": "2024-08-07T07:33:57.152602200Z",
     "start_time": "2024-08-07T07:33:57.080586600Z"
    }
   },
   "execution_count": 56
  },
  {
   "cell_type": "code",
   "outputs": [
    {
     "data": {
      "text/plain": "<Figure size 640x480 with 2 Axes>",
      "image/png": "[encoded data removed]"
     },
     "metadata": {},
     "output_type": "display_data"
    },
    {
     "data": {
      "text/plain": "<Figure size 640x480 with 2 Axes>",
      "image/png": "[encoded data removed]"
     },
     "metadata": {},
     "output_type": "display_data"
    },
    {
     "data": {
      "text/plain": "<Figure size 640x480 with 1 Axes>",
      "image/png": "[encoded data removed]"
     },
     "metadata": {},
     "output_type": "display_data"
    },
    {
     "data": {
      "text/plain": "<Figure size 640x480 with 1 Axes>",
      "image/png": "[encoded data removed]"
     },
     "metadata": {},
     "output_type": "display_data"
    }
   ],
   "source": [
    "# 加载最优模型\n",
    "save_dir = os.path.join(os.getcwd(), 'results_of_nn')\n",
    "input_dim = X_train.shape[1]\n",
    "model = SentimentAnalysisModel(input_dim).to(device)\n",
    "model.load_state_dict(torch.load(os.path.join(save_dir, 'best_model.pth')))\n",
    "#混淆矩阵\n",
    "draw_confusion_matrix(model, X_train, X_test, y_train, y_test, 'Confusion Matrix')\n",
    "# 绘制ROC曲线\n",
    "plot_roc_curve(model, X_train, y_train, 'ROC Curve nn train')\n",
    "plot_roc_curve(model, X_test, y_test, 'ROC Curve nn test')\n"
   ],
   "metadata": {
    "collapsed": false,
    "ExecuteTime": {
     "end_time": "2024-08-07T07:34:47.686377500Z",
     "start_time": "2024-08-07T07:34:46.866769900Z"
    }
   },
   "execution_count": 61
  },
  {
   "cell_type": "markdown",
   "metadata": {},
   "source": [
    "## 思考1：我们共有10种商品的评论，直接全部用一个模型预测其情感倾向是否合理？如不合理请进行改进\n",
    "并不合理，我们在训练时相当于直接抛弃了类别这一信息，但类别并不是冗余信息，其仍包含信息量\n",
    "我认为，当类别种类少时，可以尝试针对每种商品训练一个模型，例如这里一共保存10个模型的最优权重\n",
    "测试时，根据类别标签选择对应的权重，进行推测\n",
    "当类别多时，可以考虑将类别放入X部分，作为信息参与训练。\n",
    "由于本任务类别较少，我们可以选择方案一"
   ]
  },
  {
   "cell_type": "markdown",
   "source": [
    "分类别训练和测试在逻辑上和之前的存在区别，10个类别相当于要训练10次。训练集可以先根据类别划分再划分训练集和测试集，但是这样将不好获得总的准确率，并且也不太符合任务要求，理论上应该是模型能够自动根据类别选择模型来推理。\n",
    "因此，我在main函数里划分训练集和测试集，在main函数里调用train模块10次，每次传入类别信息，训练并保存模型。"
   ],
   "metadata": {
    "collapsed": false
   }
  },
  {
   "cell_type": "markdown",
   "source": [
    "### Logistic"
   ],
   "metadata": {
    "collapsed": false
   }
  },
  {
   "cell_type": "code",
   "outputs": [],
   "source": [
    "import os\n",
    "import re\n",
    "import jieba\n",
    "import pandas as pd\n",
    "import matplotlib.pyplot as plt\n",
    "from sklearn.feature_extraction.text import CountVectorizer, TfidfTransformer\n",
    "from sklearn.linear_model import LogisticRegression\n",
    "from sklearn.model_selection import train_test_split\n",
    "from sklearn.metrics import accuracy_score, confusion_matrix, roc_curve, auc\n",
    "import joblib\n",
    "import seaborn as sns"
   ],
   "metadata": {
    "collapsed": false,
    "ExecuteTime": {
     "end_time": "2024-08-07T07:35:24.006899800Z",
     "start_time": "2024-08-07T07:35:23.956888100Z"
    }
   },
   "execution_count": 62
  },
  {
   "cell_type": "code",
   "outputs": [],
   "source": [
    "# 分词，过滤，绘图的工具函数\n",
    "\n",
    "def create_stop_words_list():\n",
    "    stop_word_path = os.path.join(os.path.join(os.getcwd(), 'stopwords'), 'baidu_stopwords.txt')\n",
    "    zh_pattern = re.compile(u'[\\u4e00-\\u9fa5]+')\n",
    "    stop_word = pd.read_csv(stop_word_path, header=None)\n",
    "    stop_word = stop_word.values.reshape(-1)\n",
    "    stop_word = [stop for stop in stop_word]\n",
    "    stop_word.append(' ')\n",
    "    return stop_word, zh_pattern\n",
    "\n",
    "\n",
    "def extract_words(word, zh_pattern, stop_word):\n",
    "    word = str(word).strip()\n",
    "    zh_word = re.findall(zh_pattern, word)\n",
    "    lst = jieba.cut(''.join(zh_word), cut_all=False)\n",
    "    final_word = [char for char in lst if char not in stop_word]\n",
    "    return ' '.join(final_word)\n",
    "\n",
    "\n",
    "def tf_idf_(content):\n",
    "    counter = CountVectorizer(max_df=0.8, min_df=0.001)\n",
    "    counts = counter.fit_transform(content)\n",
    "\n",
    "    tfidfer = TfidfTransformer()\n",
    "    tfidf = tfidfer.fit_transform(counts)\n",
    "    data_review_array = tfidf.toarray()\n",
    "    return data_review_array, counter, tfidfer\n",
    "\n",
    "\n",
    "def plot_confusion_matrix_(data, data_pred, title):\n",
    "    cm = confusion_matrix(data, data_pred)\n",
    "    plt.figure()\n",
    "    sns.heatmap(cm, annot=True, fmt=\"d\", cmap='coolwarm')\n",
    "    plt.title(title)\n",
    "    plt.ylabel('Actual label')\n",
    "    plt.xlabel('Predicted label')\n",
    "    plt.show()\n",
    "\n",
    "\n",
    "def plot_roc_curve(test_labels, probabilities):\n",
    "    fpr, tpr, thresholds = roc_curve(test_labels, probabilities)\n",
    "    roc_auc = auc(fpr, tpr)\n",
    "\n",
    "    plt.figure()\n",
    "    plt.plot(fpr, tpr, color='darkorange', lw=2, label=f'ROC curve (area = {roc_auc:.4f})')\n",
    "    plt.plot([0, 1], [0, 1], color='navy', lw=2, linestyle='--')\n",
    "    plt.xlim([0.0, 1.0])\n",
    "    plt.ylim([0.0, 1.05])\n",
    "    plt.xlabel('False Positive Rate')\n",
    "    plt.ylabel('True Positive Rate')\n",
    "    plt.title('Receiver Operating Characteristic (ROC)')\n",
    "    plt.legend(loc='lower right')\n",
    "    plt.show()\n"
   ],
   "metadata": {
    "collapsed": false,
    "ExecuteTime": {
     "end_time": "2024-08-07T07:35:24.229949900Z",
     "start_time": "2024-08-07T07:35:24.188941400Z"
    }
   },
   "execution_count": 63
  },
  {
   "cell_type": "code",
   "outputs": [],
   "source": [
    "# 将类别作为参数传给训练函数，训练时会筛选训练集对应的类别进行训练，并保存该类别的模型\n",
    "\n",
    "def train_model_for_category(data, save_dir, category):\n",
    "    stop_word, zh_pattern = create_stop_words_list()\n",
    "    data_e = data['review'].apply(lambda x: extract_words(x, zh_pattern, stop_word))\n",
    "    data_extract = pd.DataFrame(data_e.values, columns=['content'])\n",
    "\n",
    "    data_frame = pd.DataFrame({\"content\": data_extract.squeeze(), \"label\": data['label'].values})\n",
    "    data_review_array, counter, tfidfer = tf_idf_(data_frame.content)\n",
    "    label = data_frame.label.values\n",
    "\n",
    "    sentiment = LogisticRegression(penalty='l2', C=1.0)\n",
    "    sentiment.fit(data_review_array, label)\n",
    "\n",
    "    category_dir = os.path.join(save_dir, f'category_{category}')\n",
    "    os.makedirs(category_dir, exist_ok=True)\n",
    "\n",
    "    joblib.dump(sentiment, os.path.join(category_dir, 'sentiment_model.pkl'))\n",
    "    joblib.dump(counter, os.path.join(category_dir, 'count_vectorizer.pkl'))\n",
    "    joblib.dump(tfidfer, os.path.join(category_dir, 'tfidf_transformer.pkl'))\n",
    "\n",
    "# 测试不需要传入类别，而是直接根据类别调用权重\n",
    "# 但是这里有一个优化的点，逐行测试需要频繁从磁盘读入模型权重，要是一个类型一个类型地测试会更快\n",
    "def predict_sentiment(test_data, save_dir):\n",
    "    print(\"开始预测\")\n",
    "    stop_word, zh_pattern = create_stop_words_list()\n",
    "\n",
    "    test_data['processed_review'] = test_data['review'].apply(lambda x: extract_words(x, zh_pattern, stop_word))\n",
    "\n",
    "    predictions = []\n",
    "    probabilities = []\n",
    "    for index, row in test_data.iterrows():\n",
    "        category = row['cat']\n",
    "        category_dir = os.path.join(save_dir, f'category_{category}')\n",
    "        sentiment = joblib.load(os.path.join(category_dir, 'sentiment_model.pkl'))\n",
    "        counter = joblib.load(os.path.join(category_dir, 'count_vectorizer.pkl'))\n",
    "        tfidfer = joblib.load(os.path.join(category_dir, 'tfidf_transformer.pkl'))\n",
    "\n",
    "        input_counts = counter.transform([row['processed_review']])\n",
    "        input_tfidf = tfidfer.transform(input_counts)\n",
    "        prediction = sentiment.predict(input_tfidf)[0]\n",
    "        probability = sentiment.predict_proba(input_tfidf)[:, 1][0]\n",
    "        predictions.append(prediction)\n",
    "        probabilities.append(probability)\n",
    "\n",
    "    return predictions, probabilities"
   ],
   "metadata": {
    "collapsed": false,
    "ExecuteTime": {
     "end_time": "2024-08-07T07:35:24.392986400Z",
     "start_time": "2024-08-07T07:35:24.357978700Z"
    }
   },
   "execution_count": 64
  },
  {
   "cell_type": "code",
   "outputs": [
    {
     "name": "stdout",
     "output_type": "stream",
     "text": [
      "检测到模型已存在，将直接使用保存的模型推断。\n",
      "如果希望自己训练，请删掉E:\\workspace\\TmallComments\\results_of_cat_logistic文件夹或改名\n",
      "开始预测\n",
      "Overall accuracy on test set = 0.8901\n"
     ]
    },
    {
     "data": {
      "text/plain": "<Figure size 640x480 with 2 Axes>",
      "image/png": "[encoded data removed]"
     },
     "metadata": {},
     "output_type": "display_data"
    },
    {
     "data": {
      "text/plain": "<Figure size 640x480 with 1 Axes>",
      "image/png": "[encoded data removed]"
     },
     "metadata": {},
     "output_type": "display_data"
    }
   ],
   "source": [
    "if __name__ == '__main__':\n",
    "    save_dir = os.path.join(os.getcwd(), 'results_of_cat_logistic')\n",
    "\n",
    "    data = pd.read_csv('online_shopping_10_cats.csv', header=0)\n",
    "    train_data, test_data = train_test_split(data, test_size=0.2, random_state=0)\n",
    "\n",
    "    categories = data['cat'].unique()\n",
    "\n",
    "    # 如果已经有了保存文件，就不用训练了\n",
    "    if not os.path.exists(save_dir):\n",
    "        os.makedirs(save_dir, exist_ok=True)\n",
    "        print(f\"未检测到模型，将开始训练模型并推断。保存的模型见{save_dir}文件夹\")\n",
    "        for category in categories:\n",
    "            print(f\"开始训练类别: {category}\")\n",
    "            category_data = train_data[train_data['cat'] == category]\n",
    "            train_model_for_category(category_data, save_dir, category)\n",
    "    else:\n",
    "        print(f\"检测到模型已存在，将直接使用保存的模型推断。\\n如果希望自己训练，请删掉{save_dir}文件夹或改名\")\n",
    "\n",
    "    test_labels = test_data['label'].values\n",
    "    predictions, probabilities = predict_sentiment(test_data, save_dir)\n",
    "\n",
    "    accuracy = accuracy_score(test_labels, predictions)\n",
    "    print(f'Overall accuracy on test set = {accuracy:.4f}')\n",
    "\n",
    "    # 绘制混淆矩阵\n",
    "    plot_confusion_matrix_(test_labels, predictions, \"Confusion Matrix for Logistic\")\n",
    "\n",
    "    # 绘制ROC曲线\n",
    "    plot_roc_curve(test_labels, probabilities)"
   ],
   "metadata": {
    "collapsed": false,
    "ExecuteTime": {
     "end_time": "2024-08-07T07:44:10.649225700Z",
     "start_time": "2024-08-07T07:35:24.626039200Z"
    }
   },
   "execution_count": 65
  },
  {
   "cell_type": "markdown",
   "source": [
    "### 神经网络"
   ],
   "metadata": {
    "collapsed": false
   }
  },
  {
   "cell_type": "code",
   "outputs": [
    {
     "name": "stdout",
     "output_type": "stream",
     "text": [
      "cuda\n"
     ]
    }
   ],
   "source": [
    "import os\n",
    "import torch\n",
    "import torch.nn as nn\n",
    "import torch.optim as optim\n",
    "import jieba\n",
    "import pandas as pd\n",
    "from torch.utils.data import DataLoader, TensorDataset\n",
    "import joblib\n",
    "from sklearn.feature_extraction.text import CountVectorizer, TfidfTransformer\n",
    "import re\n",
    "from sklearn.metrics import accuracy_score\n",
    "\n",
    "# 使用GPU\n",
    "device = torch.device(\"cuda\" if torch.cuda.is_available() else \"cpu\")\n",
    "print(device)"
   ],
   "metadata": {
    "collapsed": false,
    "ExecuteTime": {
     "end_time": "2024-08-07T08:20:45.271639Z",
     "start_time": "2024-08-07T08:20:45.157612200Z"
    }
   },
   "execution_count": 71
  },
  {
   "cell_type": "code",
   "outputs": [],
   "source": [
    "class SentimentAnalysisModel(nn.Module):\n",
    "    def __init__(self, input_dim):\n",
    "        super(SentimentAnalysisModel, self).__init__()\n",
    "        self.fc1 = nn.Linear(input_dim, 512)\n",
    "        self.dropout1 = nn.Dropout(0.5)\n",
    "        self.fc2 = nn.Linear(512, 256)\n",
    "        self.dropout2 = nn.Dropout(0.5)\n",
    "        self.fc3 = nn.Linear(256, 128)\n",
    "        self.dropout3 = nn.Dropout(0.5)\n",
    "        self.fc4 = nn.Linear(128, 1)\n",
    "\n",
    "    def forward(self, x):\n",
    "        x = torch.relu(self.fc1(x))\n",
    "        x = self.dropout1(x)\n",
    "        x = torch.relu(self.fc2(x))\n",
    "        x = self.dropout2(x)\n",
    "        x = torch.relu(self.fc3(x))\n",
    "        x = self.dropout3(x)\n",
    "        x = torch.sigmoid(self.fc4(x))\n",
    "        return x"
   ],
   "metadata": {
    "collapsed": false,
    "ExecuteTime": {
     "end_time": "2024-08-07T08:20:45.527695900Z",
     "start_time": "2024-08-07T08:20:45.407669300Z"
    }
   },
   "execution_count": 72
  },
  {
   "cell_type": "code",
   "outputs": [],
   "source": [
    "# 工具函数\n",
    "\n",
    "def create_stop_words_list():\n",
    "    stop_word_path = os.path.join(os.getcwd(), 'stopwords', 'baidu_stopwords.txt')\n",
    "    zh_pattern = re.compile(u'[\\u4e00-\\u9fa5]+')\n",
    "    stop_word = pd.read_csv(stop_word_path, header=None)\n",
    "    stop_word = stop_word.values.reshape(-1)\n",
    "    stop_word = [stop for stop in stop_word]\n",
    "    stop_word.append(' ')\n",
    "    return stop_word, zh_pattern\n",
    "\n",
    "\n",
    "def extract_words(word, zh_pattern, stop_word):\n",
    "    word = str(word).strip()\n",
    "    zh_word = re.findall(zh_pattern, word)\n",
    "    lst = jieba.cut(''.join(zh_word), cut_all=False)\n",
    "    final_word = [char for char in lst if char not in stop_word]\n",
    "    return ' '.join(final_word)\n",
    "\n",
    "\n",
    "def tf_idf_(content):\n",
    "    counter = CountVectorizer(max_df=0.8, min_df=0.001)\n",
    "    counts = counter.fit_transform(content)\n",
    "    tfidfer = TfidfTransformer()\n",
    "    tfidf = tfidfer.fit_transform(counts)\n",
    "    data_review_array = tfidf.toarray()\n",
    "    return data_review_array, counter, tfidfer\n",
    "\n",
    "\n",
    "def plot_confusion_matrix(cm, classes, title='Test Set Confusion matrix'):\n",
    "    plt.figure()\n",
    "    sns.heatmap(cm, annot=True, fmt='d', cmap='coolwarm', xticklabels=classes, yticklabels=classes)\n",
    "    plt.title(title)\n",
    "    plt.ylabel('True label')\n",
    "    plt.xlabel('Predicted label')\n",
    "    plt.show()\n",
    "\n",
    "\n",
    "def plot_roc_curve(fpr, tpr, roc_auc, title='Test Set ROC Curve'):\n",
    "    plt.figure()\n",
    "    plt.plot(fpr, tpr, color='darkorange', lw=2, label='ROC curve (area = %0.4f)' % roc_auc)\n",
    "    plt.plot([0, 1], [0, 1], color='navy', lw=2, linestyle='--')\n",
    "    plt.xlim([0.0, 1.0])\n",
    "    plt.ylim([0.0, 1.05])\n",
    "    plt.xlabel('False Positive Rate')\n",
    "    plt.ylabel('True Positive Rate')\n",
    "    plt.title(title)\n",
    "    plt.legend(loc=\"lower right\")\n",
    "    plt.show()"
   ],
   "metadata": {
    "collapsed": false,
    "ExecuteTime": {
     "end_time": "2024-08-07T08:20:45.667728900Z",
     "start_time": "2024-08-07T08:20:45.544700200Z"
    }
   },
   "execution_count": 73
  },
  {
   "cell_type": "code",
   "outputs": [],
   "source": [
    "# 将类别作为参数传给训练函数，训练时会筛选训练集对应的类别划分训练集和验证集，训练，验证并保存该类别的模型\n",
    "def train_model(save_dir, data, label, category):\n",
    "    stop_word, zh_pattern = create_stop_words_list()\n",
    "    data_e = data['review'].apply(lambda x: extract_words(x, zh_pattern, stop_word))\n",
    "    data_extract = pd.DataFrame(data_e.values, columns=['content'])\n",
    "    label = pd.DataFrame(label, columns=['label'])\n",
    "    label.reset_index(drop=True, inplace=True)  # 重置索引，使其从0开始，不然会导致后续表格无法对齐，出现nan报错\n",
    "    data_frame = pd.DataFrame({\"content\": data_extract.squeeze(), \"label\": label.squeeze()})\n",
    "\n",
    "    data_review_array, counter, tfidfer = tf_idf_(data_frame.content)\n",
    "    label = data_frame.label.values\n",
    "\n",
    "    X = torch.tensor(data_review_array, dtype=torch.float32).to(device)\n",
    "    y = torch.tensor(label, dtype=torch.float32).to(device)\n",
    "\n",
    "    X_train, X_test, y_train, y_test = train_test_split(X, y, test_size=0.2, random_state=0)\n",
    "\n",
    "    train_dataset = TensorDataset(X_train, y_train)\n",
    "    test_dataset = TensorDataset(X_test, y_test)\n",
    "\n",
    "    train_loader = DataLoader(train_dataset, batch_size=512, shuffle=True)\n",
    "    test_loader = DataLoader(test_dataset, batch_size=512, shuffle=True)\n",
    "\n",
    "    input_dim = data_review_array.shape[1]\n",
    "    model = SentimentAnalysisModel(input_dim).to(device)\n",
    "\n",
    "    criterion = nn.BCELoss()\n",
    "    optimizer = optim.Adam(model.parameters(), lr=5e-5, weight_decay=1e-5)\n",
    "\n",
    "    num_epochs = 200\n",
    "    n = 1\n",
    "    best_accuracy = 0.0\n",
    "    best_epoch = 0\n",
    "\n",
    "    for epoch in range(num_epochs):\n",
    "        model.train()\n",
    "        running_loss = 0.0\n",
    "        for inputs, labels in train_loader:\n",
    "            inputs, labels = inputs.to(device), labels.to(device).view(-1, 1)\n",
    "            outputs = model(inputs)\n",
    "            loss = criterion(outputs, labels)\n",
    "\n",
    "            optimizer.zero_grad()\n",
    "            loss.backward()\n",
    "            optimizer.step()\n",
    "\n",
    "            running_loss += loss.item() * inputs.size(0)\n",
    "        # epoch_loss = running_loss / len(train_loader.dataset)\n",
    "        if (epoch + 1) % n == 0:\n",
    "            model.eval()\n",
    "            correct = 0\n",
    "            total = 0\n",
    "            with torch.no_grad():\n",
    "                for inputs, labels in test_loader:\n",
    "                    inputs, labels = inputs.to(device), labels.to(device).view(-1, 1)\n",
    "                    outputs = model(inputs)\n",
    "                    predicted = (outputs > 0.5).float()\n",
    "                    total += labels.size(0)\n",
    "                    correct += (predicted == labels).sum().item()\n",
    "\n",
    "            accuracy = correct / total\n",
    "            print(f'Val Accuracy after epoch {epoch + 1}: {accuracy:.4f}')\n",
    "\n",
    "            if accuracy > best_accuracy:\n",
    "                best_accuracy = accuracy\n",
    "                best_epoch = epoch\n",
    "                torch.save(model.state_dict(), os.path.join(save_dir, f'{category}_best_model.pth'))\n",
    "            print(f\"best epoch at : {best_epoch}, best accuracy : {best_accuracy}\")\n",
    "\n",
    "            with open(os.path.join(save_dir, f'{category}_log.txt'), 'a') as log_file:\n",
    "                log_file.write(f'Epoch {epoch + 1}: Val Accuracy: {accuracy:.4f}\\n')\n",
    "\n",
    "    joblib.dump(counter, os.path.join(save_dir, f'{category}_count_vectorizer.pkl'))\n",
    "    joblib.dump(tfidfer, os.path.join(save_dir, f'{category}_tfidf_transformer.pkl'))\n",
    "\n",
    "# 测试不需要传入类别，而是直接根据类别调用权重\n",
    "# 这里优化了上面logistic测试那里存在的问题：逐行测试需要频繁从磁盘读入模型权重。这里一个类型一个类型地测试更快\n",
    "def test_models(data, save_dir):\n",
    "    categories = data['cat'].unique()\n",
    "    overall_correct = 0\n",
    "    overall_total = 0\n",
    "    all_labels = []\n",
    "    all_predictions = []\n",
    "    all_probabilities = []\n",
    "\n",
    "    for category in categories:\n",
    "        category_data = data[data['cat'] == category]\n",
    "        stop_word, zh_pattern = create_stop_words_list()\n",
    "        data_e = category_data['review'].apply(lambda x: extract_words(x, zh_pattern, stop_word))\n",
    "        counter = joblib.load(os.path.join(save_dir, f'{category}_count_vectorizer.pkl'))\n",
    "        tfidfer = joblib.load(os.path.join(save_dir, f'{category}_tfidf_transformer.pkl'))\n",
    "        input_dim = counter.transform(['']).shape[1]\n",
    "        model = SentimentAnalysisModel(input_dim).to(device)\n",
    "        model.load_state_dict(torch.load(os.path.join(save_dir, f'{category}_best_model.pth')))\n",
    "        model.eval()\n",
    "\n",
    "        data_review_array = tfidfer.transform(counter.transform(data_e))\n",
    "        X = torch.tensor(data_review_array.toarray(), dtype=torch.float32).to(device)\n",
    "        y = torch.tensor(category_data['label'].values, dtype=torch.float32).to(device)\n",
    "\n",
    "        with torch.no_grad():\n",
    "            outputs = model(X)\n",
    "            predictions = (outputs > 0.5).float()\n",
    "            probabilities = outputs.cpu().numpy()\n",
    "\n",
    "            correct = (predictions == y.view(-1, 1)).sum().item()\n",
    "            total = y.size(0)\n",
    "\n",
    "            all_labels.extend(y.cpu().numpy())\n",
    "            all_predictions.extend(predictions.cpu().numpy())\n",
    "            all_probabilities.extend(probabilities)\n",
    "\n",
    "        overall_correct += correct\n",
    "        overall_total += total\n",
    "\n",
    "    overall_accuracy = overall_correct / overall_total\n",
    "    print(f'Overall Test Accuracy: {overall_accuracy:.4f}')\n",
    "\n",
    "    # 计算混淆矩阵\n",
    "    cm = confusion_matrix(all_labels, all_predictions)\n",
    "    plot_confusion_matrix(cm, classes=['Negative', 'Positive'])\n",
    "\n",
    "    # 计算并绘制ROC曲线\n",
    "    fpr, tpr, _ = roc_curve(all_labels, all_probabilities)\n",
    "    roc_auc = auc(fpr, tpr)\n",
    "    plot_roc_curve(fpr, tpr, roc_auc)"
   ],
   "metadata": {
    "collapsed": false,
    "ExecuteTime": {
     "end_time": "2024-08-07T08:20:45.794756Z",
     "start_time": "2024-08-07T08:20:45.692733600Z"
    }
   },
   "execution_count": 74
  },
  {
   "cell_type": "code",
   "outputs": [
    {
     "name": "stdout",
     "output_type": "stream",
     "text": [
      "书籍 的模型已经存在，将使用已保存文件\n",
      "平板 的模型已经存在，将使用已保存文件\n",
      "手机 的模型已经存在，将使用已保存文件\n",
      "水果 的模型已经存在，将使用已保存文件\n",
      "洗发水 的模型已经存在，将使用已保存文件\n",
      "热水器 的模型已经存在，将使用已保存文件\n",
      "蒙牛 的模型已经存在，将使用已保存文件\n",
      "衣服 的模型已经存在，将使用已保存文件\n",
      "计算机 的模型已经存在，将使用已保存文件\n",
      "酒店 的模型已经存在，将使用已保存文件\n",
      "Overall Test Accuracy: 0.8934\n"
     ]
    },
    {
     "data": {
      "text/plain": "<Figure size 640x480 with 2 Axes>",
      "image/png": "[encoded data removed]"
     },
     "metadata": {},
     "output_type": "display_data"
    },
    {
     "data": {
      "text/plain": "<Figure size 640x480 with 1 Axes>",
      "image/png": "[encoded data removed]"
     },
     "metadata": {},
     "output_type": "display_data"
    }
   ],
   "source": [
    "def main():\n",
    "    # 确保 results_of_nn 文件夹存在\n",
    "    if not os.path.exists('results_of_cat'):\n",
    "        os.makedirs('results_of_cat')\n",
    "\n",
    "    save_dir = os.path.join(os.getcwd(), 'results_of_cat')\n",
    "    os.makedirs(save_dir, exist_ok=True)\n",
    "\n",
    "    data = pd.read_csv('online_shopping_10_cats.csv')  # 加载训练数据\n",
    "    train_data, test_data = train_test_split(data, test_size=0.2, random_state=42)\n",
    "    categories = data['cat'].unique()\n",
    "\n",
    "    for category in categories:\n",
    "        category_data = train_data[train_data['cat'] == category]\n",
    "        if not all(os.path.exists(os.path.join(save_dir, f'{category}_{file}')) for file in\n",
    "                   ['best_model.pth', 'count_vectorizer.pkl', 'tfidf_transformer.pkl']):\n",
    "            print(f'开始训练类别: {category}')\n",
    "            train_model(save_dir, category_data, category_data['label'], category)\n",
    "        else:\n",
    "            print(f'{category} 的模型已经存在，将使用已保存文件')\n",
    "\n",
    "    test_models(test_data, save_dir)\n",
    "\n",
    "\n",
    "if __name__ == \"__main__\":\n",
    "    main()"
   ],
   "metadata": {
    "collapsed": false,
    "ExecuteTime": {
     "end_time": "2024-08-07T08:20:56.906479700Z",
     "start_time": "2024-08-07T08:20:45.852773600Z"
    }
   },
   "execution_count": 75
  },
  {
   "cell_type": "markdown",
   "metadata": {},
   "source": [
    "## 思考2：尝试对你的结果做出解释，并帮助商家改进商品"
   ]
  },
  {
   "cell_type": "markdown",
   "source": [
    "改进结果：\n",
    "\n",
    "| 模型          | 准确率(%) | AUC-ROC |   F1   |\n",
    "|:------------|:------:|:-------:|:------:|\n",
    "| Logistic改进前 | 88.44  | 0.9512  | 0.8844 |\n",
    "| Logistic改进后 | 89.01  | 0.9551  | 0.8904 |\n",
    "| 神经网络改进前     | 87.76  | 0.9471  | 0.8771 |\n",
    "| 神经网络改进后     | 89.34  | 0.9529  | 0.8918 |"
   ],
   "metadata": {
    "collapsed": false
   }
  },
  {
   "cell_type": "markdown",
   "source": [
    "由于我们在特征向量里加入了类别信息，模型的准确率提升是可以预料到的。我们仅仅在训练上做出了改进，模型方面并没有很大变动就可以略微提高模型的精度，不过，也许正是因为这个原因，模型的提升并没有很大。"
   ],
   "metadata": {
    "collapsed": false
   }
  }
 ],
 "metadata": {
  "kernelspec": {
   "display_name": "Python 3",
   "language": "python",
   "name": "python3"
  },
  "language_info": {
   "codemirror_mode": {
    "name": "ipython",
    "version": 3
   },
   "file_extension": ".py",
   "mimetype": "text/x-python",
   "name": "python",
   "nbconvert_exporter": "python",
   "pygments_lexer": "ipython3",
   "version": "3.7.0"
  }
 },
 "nbformat": 4,
 "nbformat_minor": 2
}
